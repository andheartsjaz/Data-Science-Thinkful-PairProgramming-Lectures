{
  "nbformat": 4,
  "nbformat_minor": 0,
  "metadata": {
    "kernelspec": {
      "display_name": "Python 3",
      "language": "python",
      "name": "python3"
    },
    "language_info": {
      "codemirror_mode": {
        "name": "ipython",
        "version": 3
      },
      "file_extension": ".py",
      "mimetype": "text/x-python",
      "name": "python",
      "nbconvert_exporter": "python",
      "pygments_lexer": "ipython3",
      "version": "3.7.4"
    },
    "colab": {
      "name": "Classwork-non_normal_drills.ipynb",
      "provenance": [],
      "include_colab_link": true
    }
  },
  "cells": [
    {
      "cell_type": "markdown",
      "metadata": {
        "id": "view-in-github",
        "colab_type": "text"
      },
      "source": [
        "<a href=\"https://colab.research.google.com/github/andheartsjaz/Public/blob/master/Classwork_non_normal_drills.ipynb\" target=\"_parent\"><img src=\"https://colab.research.google.com/assets/colab-badge.svg\" alt=\"Open In Colab\"/></a>"
      ]
    },
    {
      "cell_type": "code",
      "metadata": {
        "id": "gkJcD7nTpbff",
        "colab_type": "code",
        "outputId": "c3e66f35-c6b8-4a41-df82-73084862eb39",
        "colab": {}
      },
      "source": [
        "%matplotlib inline\n",
        "import pandas as pd\n",
        "import numpy as np\n",
        "import seaborn as sns\n",
        "from matplotlib import pyplot as plt\n",
        "from scipy import stats\n",
        "\n",
        "url = 'https://tf-assets-prod.s3.amazonaws.com/tf-curric/data-science/ess_combined_2012_2014.csv'\n",
        "df = pd.read_csv(url)\n",
        "\n",
        "df.head()"
      ],
      "execution_count": 0,
      "outputs": [
        {
          "output_type": "execute_result",
          "data": {
            "text/html": [
              "<div>\n",
              "<style scoped>\n",
              "    .dataframe tbody tr th:only-of-type {\n",
              "        vertical-align: middle;\n",
              "    }\n",
              "\n",
              "    .dataframe tbody tr th {\n",
              "        vertical-align: top;\n",
              "    }\n",
              "\n",
              "    .dataframe thead th {\n",
              "        text-align: right;\n",
              "    }\n",
              "</style>\n",
              "<table border=\"1\" class=\"dataframe\">\n",
              "  <thead>\n",
              "    <tr style=\"text-align: right;\">\n",
              "      <th></th>\n",
              "      <th>cntry</th>\n",
              "      <th>idno</th>\n",
              "      <th>year</th>\n",
              "      <th>tvtot</th>\n",
              "      <th>ppltrst</th>\n",
              "      <th>pplfair</th>\n",
              "      <th>pplhlp</th>\n",
              "      <th>happy</th>\n",
              "      <th>sclmeet</th>\n",
              "      <th>sclact</th>\n",
              "      <th>gndr</th>\n",
              "      <th>agea</th>\n",
              "      <th>partner</th>\n",
              "    </tr>\n",
              "  </thead>\n",
              "  <tbody>\n",
              "    <tr>\n",
              "      <td>0</td>\n",
              "      <td>CH</td>\n",
              "      <td>5</td>\n",
              "      <td>6</td>\n",
              "      <td>3</td>\n",
              "      <td>3</td>\n",
              "      <td>10</td>\n",
              "      <td>5</td>\n",
              "      <td>8</td>\n",
              "      <td>5</td>\n",
              "      <td>4</td>\n",
              "      <td>2</td>\n",
              "      <td>60</td>\n",
              "      <td>1</td>\n",
              "    </tr>\n",
              "    <tr>\n",
              "      <td>1</td>\n",
              "      <td>CH</td>\n",
              "      <td>25</td>\n",
              "      <td>6</td>\n",
              "      <td>6</td>\n",
              "      <td>5</td>\n",
              "      <td>7</td>\n",
              "      <td>5</td>\n",
              "      <td>9</td>\n",
              "      <td>3</td>\n",
              "      <td>2</td>\n",
              "      <td>2</td>\n",
              "      <td>59</td>\n",
              "      <td>1</td>\n",
              "    </tr>\n",
              "    <tr>\n",
              "      <td>2</td>\n",
              "      <td>CH</td>\n",
              "      <td>26</td>\n",
              "      <td>6</td>\n",
              "      <td>1</td>\n",
              "      <td>8</td>\n",
              "      <td>8</td>\n",
              "      <td>8</td>\n",
              "      <td>7</td>\n",
              "      <td>6</td>\n",
              "      <td>3</td>\n",
              "      <td>1</td>\n",
              "      <td>24</td>\n",
              "      <td>2</td>\n",
              "    </tr>\n",
              "    <tr>\n",
              "      <td>3</td>\n",
              "      <td>CH</td>\n",
              "      <td>28</td>\n",
              "      <td>6</td>\n",
              "      <td>4</td>\n",
              "      <td>6</td>\n",
              "      <td>6</td>\n",
              "      <td>7</td>\n",
              "      <td>10</td>\n",
              "      <td>6</td>\n",
              "      <td>2</td>\n",
              "      <td>2</td>\n",
              "      <td>64</td>\n",
              "      <td>1</td>\n",
              "    </tr>\n",
              "    <tr>\n",
              "      <td>4</td>\n",
              "      <td>CH</td>\n",
              "      <td>29</td>\n",
              "      <td>6</td>\n",
              "      <td>5</td>\n",
              "      <td>6</td>\n",
              "      <td>7</td>\n",
              "      <td>5</td>\n",
              "      <td>8</td>\n",
              "      <td>7</td>\n",
              "      <td>2</td>\n",
              "      <td>2</td>\n",
              "      <td>55</td>\n",
              "      <td>1</td>\n",
              "    </tr>\n",
              "  </tbody>\n",
              "</table>\n",
              "</div>"
            ],
            "text/plain": [
              "  cntry  idno  year  tvtot  ppltrst  pplfair  pplhlp  happy  sclmeet  sclact  \\\n",
              "0    CH     5     6      3        3       10       5      8        5       4   \n",
              "1    CH    25     6      6        5        7       5      9        3       2   \n",
              "2    CH    26     6      1        8        8       8      7        6       3   \n",
              "3    CH    28     6      4        6        6       7     10        6       2   \n",
              "4    CH    29     6      5        6        7       5      8        7       2   \n",
              "\n",
              "   gndr  agea  partner  \n",
              "0     2    60        1  \n",
              "1     2    59        1  \n",
              "2     1    24        2  \n",
              "3     2    64        1  \n",
              "4     2    55        1  "
            ]
          },
          "metadata": {
            "tags": []
          },
          "execution_count": 149
        }
      ]
    },
    {
      "cell_type": "code",
      "metadata": {
        "jupyter": {
          "source_hidden": true
        },
        "id": "bjEQgTbopbfv",
        "colab_type": "code",
        "colab": {}
      },
      "source": [
        "def stat_format(test, name, a):\n",
        "    test_statistic, p_value = test\n",
        "    print(f'Given {name} test:' + '\\n')\n",
        "    print(f'\\t* test statistic {test_statistic:.4f}')\n",
        "    print(f'\\t* p value {p_value:.4f} (p < 0.05 is {p_value < a})' + '\\n')\n",
        "    if p_value < a:\n",
        "        return 'We can reject the null hpythosesis. \\n ---------------------------- \\n'\n",
        "    else:\n",
        "        return 'We cannot reject the null hypothesis. \\n ----------------------------\\n'\n",
        "\n",
        "    \n",
        "def auto_qq(*plots):\n",
        "    '''enter in columns as df['column'], df['column2'] OR df.column, df.column2 etc'''\n",
        "    for plot in plots:\n",
        "        stats.probplot(plot, dist=\"norm\", plot=plt)\n",
        "        plt.show()"
      ],
      "execution_count": 0,
      "outputs": []
    },
    {
      "cell_type": "code",
      "metadata": {
        "id": "PwVKeIFUpbf2",
        "colab_type": "code",
        "colab": {}
      },
      "source": [
        ""
      ],
      "execution_count": 0,
      "outputs": []
    },
    {
      "cell_type": "markdown",
      "metadata": {
        "id": "KCiyJ281pbf8",
        "colab_type": "text"
      },
      "source": [
        "Did people become less trusting from 2012 to 2014?"
      ]
    },
    {
      "cell_type": "code",
      "metadata": {
        "id": "ir6rCTMhpbgB",
        "colab_type": "code",
        "colab": {}
      },
      "source": [
        "a = df[df['year'] == 6]\n",
        "b = df[df['year'] == 7]"
      ],
      "execution_count": 0,
      "outputs": []
    },
    {
      "cell_type": "code",
      "metadata": {
        "id": "q6YMcZfDpbgH",
        "colab_type": "code",
        "outputId": "82b2e524-cf98-4064-9f15-2927bb936af7",
        "colab": {}
      },
      "source": [
        ""
      ],
      "execution_count": 0,
      "outputs": [
        {
          "output_type": "stream",
          "text": [
            "Given 2017 and 2016 trust Kruskal test:\n",
            "\n",
            "\t* test statistic 0.1193\n",
            "\t* p value 0.7298 (p < 0.05 is False)\n",
            "\n",
            "We cannot reject the null hypothesis. \n",
            " ----------------------------\n",
            "\n"
          ],
          "name": "stdout"
        }
      ]
    },
    {
      "cell_type": "code",
      "metadata": {
        "id": "9yKqvhYVpbgP",
        "colab_type": "code",
        "outputId": "88408a43-7e5b-4bed-a50d-85681a4d06c1",
        "colab": {}
      },
      "source": [
        "print(stat_format(stats.kruskal(a.ppltrst, b.ppltrst), '2012 and 2014 trust Kruskal', 0.05))\n",
        "\n",
        "plt.hist(a.ppltrst, alpha=.5)\n",
        "plt.hist(b.ppltrst, alpha=.5)\n",
        "plt.legend([2012, 2014], loc='upper left')\n",
        "plt.show()"
      ],
      "execution_count": 0,
      "outputs": [
        {
          "output_type": "stream",
          "text": [
            "Given 2012 and 2014 trust Kruskal test:\n",
            "\n",
            "\t* test statistic 0.1193\n",
            "\t* p value 0.7298 (p < 0.05 is False)\n",
            "\n",
            "We cannot reject the null hypothesis. \n",
            " ----------------------------\n",
            "\n"
          ],
          "name": "stdout"
        },
        {
          "output_type": "display_data",
          "data": {
            "image/png": "[encoded data removed]",
            "text/plain": [
              "<Figure size 432x288 with 1 Axes>"
            ]
          },
          "metadata": {
            "tags": [],
            "needs_background": "light"
          }
        }
      ]
    },
    {
      "cell_type": "code",
      "metadata": {
        "id": "LO2S1doYpbgT",
        "colab_type": "code",
        "outputId": "88ee8cb1-d78f-45e7-9fed-4b8f12f8f0d1",
        "colab": {}
      },
      "source": [
        "print(stat_format(stats.kruskal(a.happy, b.happy), '2012 and 2014 trust Kruskal', 0.05))\n",
        "\n",
        "plt.hist(a.ppltrst, alpha=.5)\n",
        "plt.hist(b.ppltrst, alpha=.5)\n",
        "plt.legend([2012, 2014], loc='upper left')\n",
        "plt.show()"
      ],
      "execution_count": 0,
      "outputs": [
        {
          "output_type": "stream",
          "text": [
            "Given 2012 and 2014 trust Kruskal test:\n",
            "\n",
            "\t* test statistic 3.7254\n",
            "\t* p value 0.0536 (p < 0.05 is False)\n",
            "\n",
            "We cannot reject the null hypothesis. \n",
            " ----------------------------\n",
            "\n"
          ],
          "name": "stdout"
        },
        {
          "output_type": "display_data",
          "data": {
            "image/png": "[encoded data removed]",
            "text/plain": [
              "<Figure size 432x288 with 1 Axes>"
            ]
          },
          "metadata": {
            "tags": [],
            "needs_background": "light"
          }
        }
      ]
    },
    {
      "cell_type": "markdown",
      "metadata": {
        "id": "UwoDr235pbgX",
        "colab_type": "text"
      },
      "source": [
        "Pick three or four of the countries in the sample and compare how often people met socially in 2014. Are there differences, and if so, which countries stand out?"
      ]
    },
    {
      "cell_type": "code",
      "metadata": {
        "jupyter": {
          "source_hidden": true
        },
        "id": "dAxPkBy3pbga",
        "colab_type": "code",
        "colab": {}
      },
      "source": [
        "x = df[df['year'] == 7]\n",
        "ch = x[x['cntry'] == 'CH']\n",
        "cz = x[x['cntry'] == 'CZ']\n",
        "es = x[x['cntry'] == 'ES']"
      ],
      "execution_count": 0,
      "outputs": []
    },
    {
      "cell_type": "code",
      "metadata": {
        "jupyter": {
          "source_hidden": true
        },
        "id": "7mKv_tSdpbge",
        "colab_type": "code",
        "colab": {}
      },
      "source": [
        "auto_qq(ch.sclmeet, cz.sclmeet, es.sclmeet, se.sclmeet)"
      ],
      "execution_count": 0,
      "outputs": []
    },
    {
      "cell_type": "markdown",
      "metadata": {
        "id": "t0s6A3lCpbgi",
        "colab_type": "text"
      },
      "source": [
        "# Performing multiple Shapiro tests for normality:"
      ]
    },
    {
      "cell_type": "code",
      "metadata": {
        "jupyter": {
          "source_hidden": true
        },
        "id": "mO70FsIspbgj",
        "colab_type": "code",
        "outputId": "58c3f7dd-de04-433f-ffab-edf18444746a",
        "colab": {}
      },
      "source": [
        "print(stat_format(stats.shapiro(ch.sclmeet), 'CH social meeting Shapiro', .05))\n",
        "print(stat_format(stats.shapiro(cz.sclmeet), 'CZ social meeting Shapiro', .05))\n",
        "print(stat_format(stats.shapiro(es.sclmeet), 'ES social meeting Shapiro', .05))"
      ],
      "execution_count": 0,
      "outputs": [
        {
          "output_type": "stream",
          "text": [
            "Given CH social meeting Shapiro test:\n",
            "\n",
            "\t* test statistic 0.8976\n",
            "\t* p value 0.0000 (p < 0.05 is True)\n",
            "\n",
            "We can reject the null hpythosesis. \n",
            " ---------------------------- \n",
            "\n",
            "Given CZ social meeting Shapiro test:\n",
            "\n",
            "\t* test statistic 0.9443\n",
            "\t* p value 0.0000 (p < 0.05 is True)\n",
            "\n",
            "We can reject the null hpythosesis. \n",
            " ---------------------------- \n",
            "\n",
            "Given ES social meeting Shapiro test:\n",
            "\n",
            "\t* test statistic 0.8928\n",
            "\t* p value 0.0000 (p < 0.05 is True)\n",
            "\n",
            "We can reject the null hpythosesis. \n",
            " ---------------------------- \n",
            "\n"
          ],
          "name": "stdout"
        }
      ]
    },
    {
      "cell_type": "markdown",
      "metadata": {
        "id": "p0rd5jTapbgo",
        "colab_type": "text"
      },
      "source": [
        "We have to use non-normal testing methods due to the nature of the distributions."
      ]
    },
    {
      "cell_type": "markdown",
      "metadata": {
        "id": "1n4x2fmApbgp",
        "colab_type": "text"
      },
      "source": [
        "# CH and ES are closer in distribution than either compared to CZ "
      ]
    },
    {
      "cell_type": "markdown",
      "metadata": {
        "id": "7yxggirEpbgr",
        "colab_type": "text"
      },
      "source": [
        "even if we can reject the null hypothesis:"
      ]
    },
    {
      "cell_type": "code",
      "metadata": {
        "jupyter": {
          "source_hidden": true
        },
        "id": "c1svrpTqpbgt",
        "colab_type": "code",
        "outputId": "974d8ceb-0757-4f13-fb67-8c2a2957737e",
        "colab": {}
      },
      "source": [
        "print(stat_format(stats.kruskal(ch.sclmeet, es.sclmeet), \"CH and ES social meetings Kruskal\", 0.05))\n",
        "plt.hist(ch.sclmeet, alpha=0.5, bins=7)\n",
        "plt.hist(es.sclmeet, alpha=0.5, bins=7)\n",
        "plt.legend(['ch', 'es'], loc='upper left')\n",
        "plt.show()\n"
      ],
      "execution_count": 0,
      "outputs": [
        {
          "output_type": "stream",
          "text": [
            "Given CH and ES social meetings Kruskal test:\n",
            "\n",
            "\t* test statistic 4.5105\n",
            "\t* p value 0.0337 (p < 0.05 is True)\n",
            "\n",
            "We can reject the null hpythosesis. \n",
            " ---------------------------- \n",
            "\n"
          ],
          "name": "stdout"
        },
        {
          "output_type": "display_data",
          "data": {
            "image/png": "[encoded data removed]",
            "text/plain": [
              "<Figure size 432x288 with 1 Axes>"
            ]
          },
          "metadata": {
            "tags": [],
            "needs_background": "light"
          }
        }
      ]
    },
    {
      "cell_type": "code",
      "metadata": {
        "jupyter": {
          "source_hidden": true
        },
        "id": "GCJkg01Qpbgy",
        "colab_type": "code",
        "outputId": "f1c9a2e7-56cf-4a6f-8c4b-35927f8a4bd8",
        "colab": {}
      },
      "source": [
        "print(stat_format(stats.kruskal(ch.sclmeet, es.sclmeet, cz.sclmeet), \"CH ES SE social meetings Kruskal\", 0.05))\n",
        "plt.hist(ch.sclmeet, alpha=0.5, bins=10)\n",
        "plt.hist(es.sclmeet, alpha=0.5, bins=10)\n",
        "plt.hist(cz.sclmeet, alpha=0.5, bins=10)\n",
        "plt.legend(['ch', 'es'], loc='upper left')\n",
        "plt.show()"
      ],
      "execution_count": 0,
      "outputs": [
        {
          "output_type": "stream",
          "text": [
            "Given CH ES SE social meetings Kruskal test:\n",
            "\n",
            "\t* test statistic 126.5241\n",
            "\t* p value 0.0000 (p < 0.05 is True)\n",
            "\n",
            "We can reject the null hpythosesis. \n",
            " ---------------------------- \n",
            "\n"
          ],
          "name": "stdout"
        },
        {
          "output_type": "display_data",
          "data": {
            "image/png": "[encoded data removed]",
            "text/plain": [
              "<Figure size 432x288 with 1 Axes>"
            ]
          },
          "metadata": {
            "tags": [],
            "needs_background": "light"
          }
        }
      ]
    },
    {
      "cell_type": "markdown",
      "metadata": {
        "id": "nAIwQQkBpbg3",
        "colab_type": "text"
      },
      "source": [
        "Pick three or four of the countries in the sample and compare how often people took part in social activities, relative to others their age, in 2014. Are there differences, and if so, which countries stand out?"
      ]
    },
    {
      "cell_type": "code",
      "metadata": {
        "id": "uNlV3UhKpbg4",
        "colab_type": "code",
        "outputId": "58a168f6-2ebe-42ac-e281-93af3a813e23",
        "colab": {}
      },
      "source": [
        "ch_sclact_age = ch.groupby('agea')[['sclact']].sum()\n",
        "cz_sclact_age = cz.groupby('agea')[['sclact']].sum()\n",
        "es_sclact_age = es.groupby('agea')[['sclact']].sum()\n",
        "plt.hist(ch_sclact_age.sclact, alpha = 0.5, color='blue')\n",
        "plt.hist(cz_sclact_age.sclact, alpha = 0.5, color='red')\n",
        "plt.hist(es_sclact_age.sclact, alpha = 0.5, color='orange')\n",
        "plt.legend(['ch', 'cz', 'es'])\n",
        "plt.title('Countries by Age and Social Activities')\n",
        "plt.show()"
      ],
      "execution_count": 0,
      "outputs": [
        {
          "output_type": "display_data",
          "data": {
            "image/png": "[encoded data removed]",
            "text/plain": [
              "<Figure size 432x288 with 1 Axes>"
            ]
          },
          "metadata": {
            "tags": [],
            "needs_background": "light"
          }
        }
      ]
    },
    {
      "cell_type": "code",
      "metadata": {
        "id": "Q-2oPCJ-pbg9",
        "colab_type": "code",
        "colab": {}
      },
      "source": [
        "# CZ has a drops off dramatically from social activity sooner than the other two countries.\n",
        "# ES has the longest life span of engaging in social activies "
      ],
      "execution_count": 0,
      "outputs": []
    }
  ]
}