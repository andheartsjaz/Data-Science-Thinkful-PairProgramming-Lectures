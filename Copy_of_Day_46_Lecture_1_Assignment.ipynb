{
  "nbformat": 4,
  "nbformat_minor": 0,
  "metadata": {
    "colab": {
      "name": "Copy of Day 46 Lecture 1 Assignment.ipynb",
      "provenance": [],
      "collapsed_sections": []
    },
    "kernelspec": {
      "display_name": "Python 3",
      "language": "python",
      "name": "python3"
    },
    "language_info": {
      "codemirror_mode": {
        "name": "ipython",
        "version": 3
      },
      "file_extension": ".py",
      "mimetype": "text/x-python",
      "name": "python",
      "nbconvert_exporter": "python",
      "pygments_lexer": "ipython3",
      "version": "3.7.0"
    }
  },
  "cells": [
    {
      "cell_type": "markdown",
      "metadata": {
        "colab_type": "text",
        "id": "xdL0Yz0D1D_q"
      },
      "source": [
        "## Day 46 Lecture 1 Assignment\n",
        "\n",
        "In this assignment, we will calculate a distance matrix for geographical Starbucks data and use it to identify locations that are close together and far apart. We will perform clustering on this dataset later on.\n",
        "\n",
        "We will be using the \"haversine\" package to compute geographical distance. It can be pip installed."
      ]
    },
    {
      "cell_type": "code",
      "metadata": {
        "id": "XEaeZ9rG7vT9",
        "colab_type": "code",
        "outputId": "36107e8a-dfdb-416a-f356-44d6539ea447",
        "colab": {
          "base_uri": "https://localhost:8080/",
          "height": 84
        }
      },
      "source": [
        "!pip install haversine"
      ],
      "execution_count": 0,
      "outputs": [
        {
          "output_type": "stream",
          "text": [
            "Collecting haversine\n",
            "  Downloading https://files.pythonhosted.org/packages/72/8e/6df8b563dd6b2961a36cd740b34c00b89142f1b97d92092c133379b2973f/haversine-2.2.0-py2.py3-none-any.whl\n",
            "Installing collected packages: haversine\n",
            "Successfully installed haversine-2.2.0\n"
          ],
          "name": "stdout"
        }
      ]
    },
    {
      "cell_type": "code",
      "metadata": {
        "colab_type": "code",
        "id": "OulyiH_C1D_r",
        "colab": {}
      },
      "source": [
        "%matplotlib inline\n",
        "\n",
        "import matplotlib.pyplot as plt\n",
        "import numpy as np\n",
        "import pandas as pd\n",
        "from haversine import haversine"
      ],
      "execution_count": 0,
      "outputs": []
    },
    {
      "cell_type": "markdown",
      "metadata": {
        "id": "F1L7qOFczKqS",
        "colab_type": "text"
      },
      "source": [
        "Below is a convenience function for calculating geographical distance matrices using lat-long data."
      ]
    },
    {
      "cell_type": "code",
      "metadata": {
        "id": "woD3d3RNzKqT",
        "colab_type": "code",
        "colab": {}
      },
      "source": [
        "def geo_sim_matrix(df, col_name = 'Coordinates'):\n",
        "    \"\"\"\n",
        "    A function that computes a geographical distance matrix (in miles).\n",
        "    Each row in the dataframe should correspond to one location.\n",
        "    In addition, the dataframe must have a column containing the lat-long of each location as a tuple (i.e. (lat, long)).\n",
        "    \n",
        "    Parameters:\n",
        "        df (pandas dataframe): an nxm dataframe containing the locations to compute similarities between.\n",
        "        col (string): the name of the column containing the lat-long tuples.\n",
        "        \n",
        "    Returns:\n",
        "        distance (pandas dataframe): an nxn distance matrix between the geographical coordinates of each location.\n",
        "    \"\"\"\n",
        "    \n",
        "    df = df.copy()\n",
        "    df.reset_index(inplace=True)\n",
        "    haver_vec = np.vectorize(haversine, otypes=[np.float32])\n",
        "    distance = df.groupby('index').apply(lambda x: pd.Series(haver_vec(df[col_name], x[col_name])))\n",
        "    distance = distance / 1.609344  # converts to miles\n",
        "    distance.columns = distance.index\n",
        "    \n",
        "    return distance\n"
      ],
      "execution_count": 0,
      "outputs": []
    },
    {
      "cell_type": "markdown",
      "metadata": {
        "colab_type": "text",
        "id": "ezMvoRlB1D_t"
      },
      "source": [
        "This dataset contains the latitude and longitude (as well as several other details we will not be using) of every Starbucks in the world as of February 2017. Each row consists of the following features, which are generally self-explanatory:\n",
        "\n",
        "- Brand\n",
        "- Store Number\n",
        "- Store Name\n",
        "- Ownership Type\n",
        "- Street Address\n",
        "- City\n",
        "- State/Province\n",
        "- Country\n",
        "- Postcode\n",
        "- Phone Number\n",
        "- Timezone\n",
        "- Longitude\n",
        "- Latitude\n",
        "\n",
        "Load in the dataset."
      ]
    },
    {
      "cell_type": "code",
      "metadata": {
        "colab_type": "code",
        "id": "wP1U4eQ91D_u",
        "colab": {}
      },
      "source": [
        "bucks = pd.read_csv(\"https://tf-assets-prod.s3.amazonaws.com/tf-curric/data-science/Data%20Sets%20Clustering/starbucks_locations.csv\")"
      ],
      "execution_count": 0,
      "outputs": []
    },
    {
      "cell_type": "markdown",
      "metadata": {
        "colab_type": "text",
        "id": "o_K1eQ0x1D_y"
      },
      "source": [
        "Begin by narrowing down the dataset to a specific geographic area of interest. Since we will need to manually compute a distance matrix, which will be on the order of $n^{2}$ in terms of size, we would recommend choosing an area with 3000 or less locations. In this example, we will use Hawaii, which has about 100 locations; for reference, California has about 2800 locations. Feel free to choose a different region that is of more interest to you, if desired.\n",
        "\n",
        "Subset the dataframe to only include records for Starbucks locations in Hawaii."
      ]
    },
    {
      "cell_type": "code",
      "metadata": {
        "id": "Z5BOvmffzKqa",
        "colab_type": "code",
        "colab": {}
      },
      "source": [
        "# answer goes here\n",
        "hawaii = bucks[bucks['State/Province'] == 'HI']"
      ],
      "execution_count": 0,
      "outputs": []
    },
    {
      "cell_type": "markdown",
      "metadata": {
        "id": "oQdBNgiAzKqd",
        "colab_type": "text"
      },
      "source": [
        "The haversine package takes tuples with 2 numeric elements and interprets them as lat-long to calculate distance, so add a new column called \"Coordinates\" that converts the lat and long in each row into a tuple. In other words, the last two columns of the dataframe should initially look like this:\n",
        "\n",
        "**Latitude, Longitude**  \n",
        "-121.64, 39.14  \n",
        "-116.40, 34.13  \n",
        "...\n",
        "\n",
        "After adding the new column, the last three columns should look like this:\n",
        "\n",
        "**Latitude, Longitude, Coordinates**  \n",
        "-121.64, 39.14, (-121.64, 39.14)  \n",
        "-116.40, 34.13, (-116.40, 34.13)  \n",
        "..."
      ]
    },
    {
      "cell_type": "code",
      "metadata": {
        "colab_type": "code",
        "id": "xfYVreyw1D_y",
        "outputId": "bdbbb8ba-f3e9-4112-aeeb-a338255ea7bc",
        "colab": {
          "base_uri": "https://localhost:8080/",
          "height": 481
        }
      },
      "source": [
        "# answer goes here\n",
        "hawaii['Coordinates'] = list(zip(hawaii.Latitude, hawaii.Longitude))\n",
        "\n",
        "hawaii.head()"
      ],
      "execution_count": 0,
      "outputs": [
        {
          "output_type": "stream",
          "text": [
            "/usr/local/lib/python3.6/dist-packages/ipykernel_launcher.py:1: SettingWithCopyWarning: \n",
            "A value is trying to be set on a copy of a slice from a DataFrame.\n",
            "Try using .loc[row_indexer,col_indexer] = value instead\n",
            "\n",
            "See the caveats in the documentation: http://pandas.pydata.org/pandas-docs/stable/user_guide/indexing.html#returning-a-view-versus-a-copy\n",
            "  \"\"\"Entry point for launching an IPython kernel.\n"
          ],
          "name": "stderr"
        },
        {
          "output_type": "execute_result",
          "data": {
            "text/html": [
              "<div>\n",
              "<style scoped>\n",
              "    .dataframe tbody tr th:only-of-type {\n",
              "        vertical-align: middle;\n",
              "    }\n",
              "\n",
              "    .dataframe tbody tr th {\n",
              "        vertical-align: top;\n",
              "    }\n",
              "\n",
              "    .dataframe thead th {\n",
              "        text-align: right;\n",
              "    }\n",
              "</style>\n",
              "<table border=\"1\" class=\"dataframe\">\n",
              "  <thead>\n",
              "    <tr style=\"text-align: right;\">\n",
              "      <th></th>\n",
              "      <th>Brand</th>\n",
              "      <th>Store Number</th>\n",
              "      <th>Store Name</th>\n",
              "      <th>Ownership Type</th>\n",
              "      <th>Street Address</th>\n",
              "      <th>City</th>\n",
              "      <th>State/Province</th>\n",
              "      <th>Country</th>\n",
              "      <th>Postcode</th>\n",
              "      <th>Phone Number</th>\n",
              "      <th>Timezone</th>\n",
              "      <th>Longitude</th>\n",
              "      <th>Latitude</th>\n",
              "      <th>Coordinates</th>\n",
              "    </tr>\n",
              "  </thead>\n",
              "  <tbody>\n",
              "    <tr>\n",
              "      <th>17202</th>\n",
              "      <td>Starbucks</td>\n",
              "      <td>21034-73360</td>\n",
              "      <td>Aiea Shopping Center</td>\n",
              "      <td>Company Owned</td>\n",
              "      <td>99-115 Aiea Heights Drive #125</td>\n",
              "      <td>Aiea</td>\n",
              "      <td>HI</td>\n",
              "      <td>US</td>\n",
              "      <td>967013913</td>\n",
              "      <td>808-484-1488</td>\n",
              "      <td>GMT-10:00 Pacific/Honolulu</td>\n",
              "      <td>-157.93</td>\n",
              "      <td>21.38</td>\n",
              "      <td>(21.38, -157.93)</td>\n",
              "    </tr>\n",
              "    <tr>\n",
              "      <th>17203</th>\n",
              "      <td>Starbucks</td>\n",
              "      <td>21053-99755</td>\n",
              "      <td>Stadium Marketplace</td>\n",
              "      <td>Company Owned</td>\n",
              "      <td>4561 Salt Lake Boulevard</td>\n",
              "      <td>Aiea</td>\n",
              "      <td>HI</td>\n",
              "      <td>US</td>\n",
              "      <td>968183167</td>\n",
              "      <td>808-488-9313</td>\n",
              "      <td>GMT-10:00 Pacific/Honolulu</td>\n",
              "      <td>-157.93</td>\n",
              "      <td>21.37</td>\n",
              "      <td>(21.37, -157.93)</td>\n",
              "    </tr>\n",
              "    <tr>\n",
              "      <th>17204</th>\n",
              "      <td>Starbucks</td>\n",
              "      <td>21006-10033</td>\n",
              "      <td>Kaonohi St &amp; Kam Hwy - Pearlridge</td>\n",
              "      <td>Company Owned</td>\n",
              "      <td>98-125 Kaonohi Street</td>\n",
              "      <td>Aiea</td>\n",
              "      <td>HI</td>\n",
              "      <td>US</td>\n",
              "      <td>967012318</td>\n",
              "      <td>808-484-9548</td>\n",
              "      <td>GMT-10:00 Pacific/Honolulu</td>\n",
              "      <td>-157.94</td>\n",
              "      <td>21.38</td>\n",
              "      <td>(21.38, -157.94)</td>\n",
              "    </tr>\n",
              "    <tr>\n",
              "      <th>17205</th>\n",
              "      <td>Starbucks</td>\n",
              "      <td>21005-10034</td>\n",
              "      <td>Pearlridge Mall Uptown</td>\n",
              "      <td>Company Owned</td>\n",
              "      <td>98-1005 Moanalua Road</td>\n",
              "      <td>Aiea</td>\n",
              "      <td>HI</td>\n",
              "      <td>US</td>\n",
              "      <td>967014705</td>\n",
              "      <td>808-484-9355</td>\n",
              "      <td>GMT-10:00 Pacific/Honolulu</td>\n",
              "      <td>-157.94</td>\n",
              "      <td>21.39</td>\n",
              "      <td>(21.39, -157.94)</td>\n",
              "    </tr>\n",
              "    <tr>\n",
              "      <th>17206</th>\n",
              "      <td>Starbucks</td>\n",
              "      <td>21063-101700</td>\n",
              "      <td>Waimalu Shopping Center</td>\n",
              "      <td>Company Owned</td>\n",
              "      <td>98-1277 Kaahumanu Street, Building E, Unit 7, ...</td>\n",
              "      <td>Aiea</td>\n",
              "      <td>HI</td>\n",
              "      <td>US</td>\n",
              "      <td>967015314</td>\n",
              "      <td>808-484-5802</td>\n",
              "      <td>GMT-10:00 Pacific/Honolulu</td>\n",
              "      <td>-157.95</td>\n",
              "      <td>21.39</td>\n",
              "      <td>(21.39, -157.95)</td>\n",
              "    </tr>\n",
              "  </tbody>\n",
              "</table>\n",
              "</div>"
            ],
            "text/plain": [
              "           Brand  Store Number  ... Latitude       Coordinates\n",
              "17202  Starbucks   21034-73360  ...    21.38  (21.38, -157.93)\n",
              "17203  Starbucks   21053-99755  ...    21.37  (21.37, -157.93)\n",
              "17204  Starbucks   21006-10033  ...    21.38  (21.38, -157.94)\n",
              "17205  Starbucks   21005-10034  ...    21.39  (21.39, -157.94)\n",
              "17206  Starbucks  21063-101700  ...    21.39  (21.39, -157.95)\n",
              "\n",
              "[5 rows x 14 columns]"
            ]
          },
          "metadata": {
            "tags": []
          },
          "execution_count": 24
        }
      ]
    },
    {
      "cell_type": "markdown",
      "metadata": {
        "id": "JejOosWVzKqg",
        "colab_type": "text"
      },
      "source": [
        "Calculate the distance matrix using the starter code/function geo_sim_matrix() provided earlier in the notebook. It assumes the column containing the coordinates for each location is called \"Coordinates\". Examine the docstring for more details.\n",
        "\n",
        "Note: the latitude and longitudes provided only go out to two decimal places, which limits the resolution of the distance calculations to about 0.5 miles. Distances that are very small may not be accurately represented here (e.g. several instances of \"0 distance\" for distinct Starbucks locations in very close proximity)."
      ]
    },
    {
      "cell_type": "code",
      "metadata": {
        "id": "RtXe5j2szKqh",
        "colab_type": "code",
        "outputId": "c5b493f8-00af-47b4-b791-f2023e08f47e",
        "colab": {
          "base_uri": "https://localhost:8080/",
          "height": 286
        }
      },
      "source": [
        "# answer goes here\n",
        "matrix = geo_sim_matrix(hawaii, col_name = 'Coordinates')\n",
        "print(matrix)\n"
      ],
      "execution_count": 0,
      "outputs": [
        {
          "output_type": "stream",
          "text": [
            "index       17202       17203       17204  ...       17298       17299       17300\n",
            "index                                      ...                                    \n",
            "17202    0.000000    0.690934    0.643386  ...    5.329021    5.675488    6.470637\n",
            "17203    0.690934    0.000000    0.944121  ...    5.548625    6.120771    6.580589\n",
            "17204    0.643386    0.944121    0.000000  ...    4.710641    5.179933    5.831356\n",
            "17205    0.944091    1.524305    0.690934  ...    4.555939    4.747018    5.790081\n",
            "17206    1.460500    1.888212    0.944091  ...    3.921273    4.240594    5.146738\n",
            "...           ...         ...         ...  ...         ...         ...         ...\n",
            "17296  107.264542  106.962166  107.842613  ...  112.498970  112.833847  113.367599\n",
            "17297   98.783943   98.552231   99.389603  ...  104.095673  104.204285  105.083298\n",
            "17298    5.329021    5.548625    4.710641  ...    0.000000    2.170313    1.460423\n",
            "17299    5.675488    6.120771    5.179933  ...    2.170313    0.000000    3.370790\n",
            "17300    6.470637    6.580589    5.831356  ...    1.460423    3.370790    0.000000\n",
            "\n",
            "[99 rows x 99 columns]\n"
          ],
          "name": "stdout"
        },
        {
          "output_type": "execute_result",
          "data": {
            "text/plain": [
              "pandas.core.frame.DataFrame"
            ]
          },
          "metadata": {
            "tags": []
          },
          "execution_count": 29
        }
      ]
    },
    {
      "cell_type": "markdown",
      "metadata": {
        "colab_type": "text",
        "id": "86lfEP_91D_0"
      },
      "source": [
        "For each Starbucks, identify its nearest neighboring location in Hawaii (and presumably in the world). Save the output to a dataframe with three columns: Location, Nearest Neighbor, and Distance (Miles)."
      ]
    },
    {
      "cell_type": "code",
      "metadata": {
        "colab_type": "code",
        "id": "o3PUI4l61D_0",
        "outputId": "744695ba-97f0-4e09-a4f3-fe85787e1cbf",
        "colab": {
          "base_uri": "https://localhost:8080/",
          "height": 54
        }
      },
      "source": [
        "# answer goes here\n",
        "Neighbor = []\n",
        "Distance = []\n",
        "for column in matrix:\n",
        "  matrix1 = matrix[matrix[column] != 0]\n",
        "  matrix2 = matrix1[column].sort_values()\n",
        "  matrix3 = matrix2.iloc[:1]\n",
        "  \n",
        "  mindist = matrix3.values[0]\n",
        "  neighbor = matrix3.index[0]\n",
        "  Distance.append(mindist)\n",
        "  Neighbor.append(neighbor)"
      ],
      "execution_count": 0,
      "outputs": [
        {
          "output_type": "stream",
          "text": [
            "[0.64338624, 0.6909342, 0.64338624, 0.64334226, 0.64334226, 3.9228303, 3.9228303, 0.65049416, 0.65049416, 1.5273017, 0.65049416, 0.64382493, 0.6909342, 0.6437811, 0.6909342, 0.64356196, 0.64382493, 0.94441974, 0.6909342, 0.6437811, 0.9443303, 0.6909342, 0.94441974, 0.64356196, 0.64382493, 0.6909342, 0.6909342, 0.6437811, 0.64382493, 2.1704302, 0.6437811, 0.94441974, 0.6909342, 0.6909342, 0.64382493, 0.6909342, 0.6437811, 2.5752997, 0.6909342, 0.6909342, 0.6909342, 0.64356196, 0.6909342, 1.9314747, 0.6909342, 0.6437811, 2.5752997, 0.6437811, 0.6909342, 0.64382493, 0.6909342, 0.9443303, 0.64382493, 1.2910336, 0.6909342, 0.6455168, 1.2910336, 0.94560313, 1.5252239, 0.6455168, 3.9212735, 3.9212735, 0.65069723, 0.65069723, 0.6909342, 15.612447, 1.3818684, 0.6432103, 0.6432103, 5.8519654, 0.94424057, 0.94424057, 0.94424057, 1.3818684, 1.3818684, 1.3818684, 8.059888, 0.65069723, 0.6909342, 0.6909342, 0.6909342, 2.4419143, 2.0426142, 2.0426142, 2.0426142, 0.94388086, 0.94388086, 1.4598792, 1.4604225, 7.3224187, 4.955147, 1.8883914, 6.7398334, 15.612447, 2.8382967, 1.2910336, 1.4604225, 1.5241936, 1.4604225]\n"
          ],
          "name": "stdout"
        }
      ]
    },
    {
      "cell_type": "code",
      "metadata": {
        "id": "z96dZzLq8Xak",
        "colab_type": "code",
        "colab": {}
      },
      "source": [
        "# Adams solution:\n",
        "# np.fill_diagonal(matrix.values, np.nan)\n",
        "# hawaii['Nearest Neighbor'] = matrix.idxmin()\n",
        "# hawaii['Distance (Miles)'] = matrix.min(axis=1)"
      ],
      "execution_count": 0,
      "outputs": []
    },
    {
      "cell_type": "code",
      "metadata": {
        "id": "ySUajttA7c1-",
        "colab_type": "code",
        "outputId": "dd963184-1ac8-4b02-abdf-32d4b19b37b6",
        "colab": {
          "base_uri": "https://localhost:8080/",
          "height": 218
        }
      },
      "source": [
        "hawaii['nearest_neighbor'] = Neighbor\n",
        "hawaii['distance_to_neighbor'] = Distance"
      ],
      "execution_count": 0,
      "outputs": [
        {
          "output_type": "stream",
          "text": [
            "/usr/local/lib/python3.6/dist-packages/ipykernel_launcher.py:1: SettingWithCopyWarning: \n",
            "A value is trying to be set on a copy of a slice from a DataFrame.\n",
            "Try using .loc[row_indexer,col_indexer] = value instead\n",
            "\n",
            "See the caveats in the documentation: http://pandas.pydata.org/pandas-docs/stable/user_guide/indexing.html#returning-a-view-versus-a-copy\n",
            "  \"\"\"Entry point for launching an IPython kernel.\n",
            "/usr/local/lib/python3.6/dist-packages/ipykernel_launcher.py:2: SettingWithCopyWarning: \n",
            "A value is trying to be set on a copy of a slice from a DataFrame.\n",
            "Try using .loc[row_indexer,col_indexer] = value instead\n",
            "\n",
            "See the caveats in the documentation: http://pandas.pydata.org/pandas-docs/stable/user_guide/indexing.html#returning-a-view-versus-a-copy\n",
            "  \n"
          ],
          "name": "stderr"
        }
      ]
    },
    {
      "cell_type": "code",
      "metadata": {
        "id": "5pwMs_Hn7k_P",
        "colab_type": "code",
        "outputId": "13f36fa4-a5cc-4893-dd8b-45fd18210cc3",
        "colab": {
          "base_uri": "https://localhost:8080/",
          "height": 434
        }
      },
      "source": [
        "hawaii.head()"
      ],
      "execution_count": 0,
      "outputs": [
        {
          "output_type": "execute_result",
          "data": {
            "text/html": [
              "<div>\n",
              "<style scoped>\n",
              "    .dataframe tbody tr th:only-of-type {\n",
              "        vertical-align: middle;\n",
              "    }\n",
              "\n",
              "    .dataframe tbody tr th {\n",
              "        vertical-align: top;\n",
              "    }\n",
              "\n",
              "    .dataframe thead th {\n",
              "        text-align: right;\n",
              "    }\n",
              "</style>\n",
              "<table border=\"1\" class=\"dataframe\">\n",
              "  <thead>\n",
              "    <tr style=\"text-align: right;\">\n",
              "      <th></th>\n",
              "      <th>Brand</th>\n",
              "      <th>Store Number</th>\n",
              "      <th>Store Name</th>\n",
              "      <th>Ownership Type</th>\n",
              "      <th>Street Address</th>\n",
              "      <th>City</th>\n",
              "      <th>State/Province</th>\n",
              "      <th>Country</th>\n",
              "      <th>Postcode</th>\n",
              "      <th>Phone Number</th>\n",
              "      <th>Timezone</th>\n",
              "      <th>Longitude</th>\n",
              "      <th>Latitude</th>\n",
              "      <th>Coordinates</th>\n",
              "      <th>nearest_neighbor</th>\n",
              "      <th>distance_to_neighbor</th>\n",
              "    </tr>\n",
              "  </thead>\n",
              "  <tbody>\n",
              "    <tr>\n",
              "      <th>17202</th>\n",
              "      <td>Starbucks</td>\n",
              "      <td>21034-73360</td>\n",
              "      <td>Aiea Shopping Center</td>\n",
              "      <td>Company Owned</td>\n",
              "      <td>99-115 Aiea Heights Drive #125</td>\n",
              "      <td>Aiea</td>\n",
              "      <td>HI</td>\n",
              "      <td>US</td>\n",
              "      <td>967013913</td>\n",
              "      <td>808-484-1488</td>\n",
              "      <td>GMT-10:00 Pacific/Honolulu</td>\n",
              "      <td>-157.93</td>\n",
              "      <td>21.38</td>\n",
              "      <td>(21.38, -157.93)</td>\n",
              "      <td>17204</td>\n",
              "      <td>0.643386</td>\n",
              "    </tr>\n",
              "    <tr>\n",
              "      <th>17203</th>\n",
              "      <td>Starbucks</td>\n",
              "      <td>21053-99755</td>\n",
              "      <td>Stadium Marketplace</td>\n",
              "      <td>Company Owned</td>\n",
              "      <td>4561 Salt Lake Boulevard</td>\n",
              "      <td>Aiea</td>\n",
              "      <td>HI</td>\n",
              "      <td>US</td>\n",
              "      <td>968183167</td>\n",
              "      <td>808-488-9313</td>\n",
              "      <td>GMT-10:00 Pacific/Honolulu</td>\n",
              "      <td>-157.93</td>\n",
              "      <td>21.37</td>\n",
              "      <td>(21.37, -157.93)</td>\n",
              "      <td>17202</td>\n",
              "      <td>0.690934</td>\n",
              "    </tr>\n",
              "    <tr>\n",
              "      <th>17204</th>\n",
              "      <td>Starbucks</td>\n",
              "      <td>21006-10033</td>\n",
              "      <td>Kaonohi St &amp; Kam Hwy - Pearlridge</td>\n",
              "      <td>Company Owned</td>\n",
              "      <td>98-125 Kaonohi Street</td>\n",
              "      <td>Aiea</td>\n",
              "      <td>HI</td>\n",
              "      <td>US</td>\n",
              "      <td>967012318</td>\n",
              "      <td>808-484-9548</td>\n",
              "      <td>GMT-10:00 Pacific/Honolulu</td>\n",
              "      <td>-157.94</td>\n",
              "      <td>21.38</td>\n",
              "      <td>(21.38, -157.94)</td>\n",
              "      <td>17202</td>\n",
              "      <td>0.643386</td>\n",
              "    </tr>\n",
              "    <tr>\n",
              "      <th>17205</th>\n",
              "      <td>Starbucks</td>\n",
              "      <td>21005-10034</td>\n",
              "      <td>Pearlridge Mall Uptown</td>\n",
              "      <td>Company Owned</td>\n",
              "      <td>98-1005 Moanalua Road</td>\n",
              "      <td>Aiea</td>\n",
              "      <td>HI</td>\n",
              "      <td>US</td>\n",
              "      <td>967014705</td>\n",
              "      <td>808-484-9355</td>\n",
              "      <td>GMT-10:00 Pacific/Honolulu</td>\n",
              "      <td>-157.94</td>\n",
              "      <td>21.39</td>\n",
              "      <td>(21.39, -157.94)</td>\n",
              "      <td>17206</td>\n",
              "      <td>0.643342</td>\n",
              "    </tr>\n",
              "    <tr>\n",
              "      <th>17206</th>\n",
              "      <td>Starbucks</td>\n",
              "      <td>21063-101700</td>\n",
              "      <td>Waimalu Shopping Center</td>\n",
              "      <td>Company Owned</td>\n",
              "      <td>98-1277 Kaahumanu Street, Building E, Unit 7, ...</td>\n",
              "      <td>Aiea</td>\n",
              "      <td>HI</td>\n",
              "      <td>US</td>\n",
              "      <td>967015314</td>\n",
              "      <td>808-484-5802</td>\n",
              "      <td>GMT-10:00 Pacific/Honolulu</td>\n",
              "      <td>-157.95</td>\n",
              "      <td>21.39</td>\n",
              "      <td>(21.39, -157.95)</td>\n",
              "      <td>17205</td>\n",
              "      <td>0.643342</td>\n",
              "    </tr>\n",
              "  </tbody>\n",
              "</table>\n",
              "</div>"
            ],
            "text/plain": [
              "           Brand  Store Number  ... nearest_neighbor distance_to_neighbor\n",
              "17202  Starbucks   21034-73360  ...            17204             0.643386\n",
              "17203  Starbucks   21053-99755  ...            17202             0.690934\n",
              "17204  Starbucks   21006-10033  ...            17202             0.643386\n",
              "17205  Starbucks   21005-10034  ...            17206             0.643342\n",
              "17206  Starbucks  21063-101700  ...            17205             0.643342\n",
              "\n",
              "[5 rows x 16 columns]"
            ]
          },
          "metadata": {
            "tags": []
          },
          "execution_count": 58
        }
      ]
    },
    {
      "cell_type": "markdown",
      "metadata": {
        "id": "0fpUIvnVzKqn",
        "colab_type": "text"
      },
      "source": [
        "If the nearest neighbor of a Starbucks location is far away, we could consider that Starbucks to be \"on an island\". Which five Starbucks in Hawaii are the most \"on an island\"?"
      ]
    },
    {
      "cell_type": "code",
      "metadata": {
        "id": "S9ei1WPmzKqo",
        "colab_type": "code",
        "outputId": "ac7ceca8-d58f-42a1-cc50-91b9cfce7cb2",
        "colab": {
          "base_uri": "https://localhost:8080/",
          "height": 892
        }
      },
      "source": [
        "# answer goes here\n",
        "\n",
        "\n",
        "hawaii.sort_values(by='distance_to_neighbor', ascending= False)\n"
      ],
      "execution_count": 0,
      "outputs": [
        {
          "output_type": "execute_result",
          "data": {
            "text/html": [
              "<div>\n",
              "<style scoped>\n",
              "    .dataframe tbody tr th:only-of-type {\n",
              "        vertical-align: middle;\n",
              "    }\n",
              "\n",
              "    .dataframe tbody tr th {\n",
              "        vertical-align: top;\n",
              "    }\n",
              "\n",
              "    .dataframe thead th {\n",
              "        text-align: right;\n",
              "    }\n",
              "</style>\n",
              "<table border=\"1\" class=\"dataframe\">\n",
              "  <thead>\n",
              "    <tr style=\"text-align: right;\">\n",
              "      <th></th>\n",
              "      <th>Brand</th>\n",
              "      <th>Store Number</th>\n",
              "      <th>Store Name</th>\n",
              "      <th>Ownership Type</th>\n",
              "      <th>Street Address</th>\n",
              "      <th>City</th>\n",
              "      <th>State/Province</th>\n",
              "      <th>Country</th>\n",
              "      <th>Postcode</th>\n",
              "      <th>Phone Number</th>\n",
              "      <th>Timezone</th>\n",
              "      <th>Longitude</th>\n",
              "      <th>Latitude</th>\n",
              "      <th>Coordinates</th>\n",
              "      <th>nearest_neighbor</th>\n",
              "      <th>distance_to_neighbor</th>\n",
              "    </tr>\n",
              "  </thead>\n",
              "  <tbody>\n",
              "    <tr>\n",
              "      <th>17295</th>\n",
              "      <td>Starbucks</td>\n",
              "      <td>21070-104953</td>\n",
              "      <td>Queens Marketplace</td>\n",
              "      <td>Company Owned</td>\n",
              "      <td>69-201 Waikoloa Beach Drive, #1001 K-1</td>\n",
              "      <td>Waikoloa</td>\n",
              "      <td>HI</td>\n",
              "      <td>US</td>\n",
              "      <td>967385810</td>\n",
              "      <td>808-886-1888</td>\n",
              "      <td>GMT-10:00 Pacific/Honolulu</td>\n",
              "      <td>-155.88</td>\n",
              "      <td>19.91</td>\n",
              "      <td>(19.91, -155.88)</td>\n",
              "      <td>17267</td>\n",
              "      <td>15.612447</td>\n",
              "    </tr>\n",
              "    <tr>\n",
              "      <th>17267</th>\n",
              "      <td>Starbucks</td>\n",
              "      <td>21030-58899</td>\n",
              "      <td>Parker Ranch Center</td>\n",
              "      <td>Company Owned</td>\n",
              "      <td>67-1185 Mamalahoa Highway D108</td>\n",
              "      <td>Kamuela</td>\n",
              "      <td>HI</td>\n",
              "      <td>US</td>\n",
              "      <td>967438427</td>\n",
              "      <td>808-887-6409</td>\n",
              "      <td>GMT-10:00 Pacific/Honolulu</td>\n",
              "      <td>-155.67</td>\n",
              "      <td>20.02</td>\n",
              "      <td>(20.02, -155.67)</td>\n",
              "      <td>17295</td>\n",
              "      <td>15.612447</td>\n",
              "    </tr>\n",
              "    <tr>\n",
              "      <th>17278</th>\n",
              "      <td>Starbucks</td>\n",
              "      <td>21071-107523</td>\n",
              "      <td>Poipu Shopping Village</td>\n",
              "      <td>Company Owned</td>\n",
              "      <td>2360 Kiahuna Plantation Drive, Suites E-70 &amp; E-80</td>\n",
              "      <td>Koloa</td>\n",
              "      <td>HI</td>\n",
              "      <td>US</td>\n",
              "      <td>967569552</td>\n",
              "      <td>(808) 742-5144</td>\n",
              "      <td>GMT-10:00 Pacific/Honolulu</td>\n",
              "      <td>-159.46</td>\n",
              "      <td>21.88</td>\n",
              "      <td>(21.88, -159.46)</td>\n",
              "      <td>17284</td>\n",
              "      <td>8.059888</td>\n",
              "    </tr>\n",
              "    <tr>\n",
              "      <th>17291</th>\n",
              "      <td>Starbucks</td>\n",
              "      <td>21040-85520</td>\n",
              "      <td>Pukalani Terrace Center</td>\n",
              "      <td>Company Owned</td>\n",
              "      <td>55 Pukalani Street</td>\n",
              "      <td>Pukalani</td>\n",
              "      <td>HI</td>\n",
              "      <td>US</td>\n",
              "      <td>96768</td>\n",
              "      <td>808-573-5458</td>\n",
              "      <td>GMT-10:00 Pacific/Honolulu</td>\n",
              "      <td>-156.34</td>\n",
              "      <td>20.84</td>\n",
              "      <td>(20.84, -156.34)</td>\n",
              "      <td>17261</td>\n",
              "      <td>7.322419</td>\n",
              "    </tr>\n",
              "    <tr>\n",
              "      <th>17294</th>\n",
              "      <td>Starbucks</td>\n",
              "      <td>21073-102259</td>\n",
              "      <td>Waianae Mall - Farrington Hwy</td>\n",
              "      <td>Company Owned</td>\n",
              "      <td>86-120 Farrington Highway, Waikoloa Beach Resort</td>\n",
              "      <td>Waianae</td>\n",
              "      <td>HI</td>\n",
              "      <td>US</td>\n",
              "      <td>967923000</td>\n",
              "      <td>(808) 697-8279</td>\n",
              "      <td>GMT-10:00 Pacific/Honolulu</td>\n",
              "      <td>-158.18</td>\n",
              "      <td>21.44</td>\n",
              "      <td>(21.44, -158.18)</td>\n",
              "      <td>17292</td>\n",
              "      <td>6.739833</td>\n",
              "    </tr>\n",
              "    <tr>\n",
              "      <th>...</th>\n",
              "      <td>...</td>\n",
              "      <td>...</td>\n",
              "      <td>...</td>\n",
              "      <td>...</td>\n",
              "      <td>...</td>\n",
              "      <td>...</td>\n",
              "      <td>...</td>\n",
              "      <td>...</td>\n",
              "      <td>...</td>\n",
              "      <td>...</td>\n",
              "      <td>...</td>\n",
              "      <td>...</td>\n",
              "      <td>...</td>\n",
              "      <td>...</td>\n",
              "      <td>...</td>\n",
              "      <td>...</td>\n",
              "    </tr>\n",
              "    <tr>\n",
              "      <th>17202</th>\n",
              "      <td>Starbucks</td>\n",
              "      <td>21034-73360</td>\n",
              "      <td>Aiea Shopping Center</td>\n",
              "      <td>Company Owned</td>\n",
              "      <td>99-115 Aiea Heights Drive #125</td>\n",
              "      <td>Aiea</td>\n",
              "      <td>HI</td>\n",
              "      <td>US</td>\n",
              "      <td>967013913</td>\n",
              "      <td>808-484-1488</td>\n",
              "      <td>GMT-10:00 Pacific/Honolulu</td>\n",
              "      <td>-157.93</td>\n",
              "      <td>21.38</td>\n",
              "      <td>(21.38, -157.93)</td>\n",
              "      <td>17204</td>\n",
              "      <td>0.643386</td>\n",
              "    </tr>\n",
              "    <tr>\n",
              "      <th>17206</th>\n",
              "      <td>Starbucks</td>\n",
              "      <td>21063-101700</td>\n",
              "      <td>Waimalu Shopping Center</td>\n",
              "      <td>Company Owned</td>\n",
              "      <td>98-1277 Kaahumanu Street, Building E, Unit 7, ...</td>\n",
              "      <td>Aiea</td>\n",
              "      <td>HI</td>\n",
              "      <td>US</td>\n",
              "      <td>967015314</td>\n",
              "      <td>808-484-5802</td>\n",
              "      <td>GMT-10:00 Pacific/Honolulu</td>\n",
              "      <td>-157.95</td>\n",
              "      <td>21.39</td>\n",
              "      <td>(21.39, -157.95)</td>\n",
              "      <td>17205</td>\n",
              "      <td>0.643342</td>\n",
              "    </tr>\n",
              "    <tr>\n",
              "      <th>17205</th>\n",
              "      <td>Starbucks</td>\n",
              "      <td>21005-10034</td>\n",
              "      <td>Pearlridge Mall Uptown</td>\n",
              "      <td>Company Owned</td>\n",
              "      <td>98-1005 Moanalua Road</td>\n",
              "      <td>Aiea</td>\n",
              "      <td>HI</td>\n",
              "      <td>US</td>\n",
              "      <td>967014705</td>\n",
              "      <td>808-484-9355</td>\n",
              "      <td>GMT-10:00 Pacific/Honolulu</td>\n",
              "      <td>-157.94</td>\n",
              "      <td>21.39</td>\n",
              "      <td>(21.39, -157.94)</td>\n",
              "      <td>17206</td>\n",
              "      <td>0.643342</td>\n",
              "    </tr>\n",
              "    <tr>\n",
              "      <th>17269</th>\n",
              "      <td>Starbucks</td>\n",
              "      <td>20315-202708</td>\n",
              "      <td>Windward Mall</td>\n",
              "      <td>Company Owned</td>\n",
              "      <td>46-056 Kamehameha, C01</td>\n",
              "      <td>Kaneohe</td>\n",
              "      <td>HI</td>\n",
              "      <td>US</td>\n",
              "      <td>96744</td>\n",
              "      <td>(808) 235-2618</td>\n",
              "      <td>GMT-10:00 Pacific/Honolulu</td>\n",
              "      <td>-157.81</td>\n",
              "      <td>21.42</td>\n",
              "      <td>(21.42, -157.81)</td>\n",
              "      <td>17270</td>\n",
              "      <td>0.643210</td>\n",
              "    </tr>\n",
              "    <tr>\n",
              "      <th>17270</th>\n",
              "      <td>Starbucks</td>\n",
              "      <td>21047-93484</td>\n",
              "      <td>Kaneohe Bay Shopping Center</td>\n",
              "      <td>Company Owned</td>\n",
              "      <td>46-023 Kamehameha Highway</td>\n",
              "      <td>Kaneohe</td>\n",
              "      <td>HI</td>\n",
              "      <td>US</td>\n",
              "      <td>967443769</td>\n",
              "      <td>(808) 234-5425</td>\n",
              "      <td>GMT-10:00 Pacific/Honolulu</td>\n",
              "      <td>-157.80</td>\n",
              "      <td>21.42</td>\n",
              "      <td>(21.42, -157.8)</td>\n",
              "      <td>17269</td>\n",
              "      <td>0.643210</td>\n",
              "    </tr>\n",
              "  </tbody>\n",
              "</table>\n",
              "<p>99 rows × 16 columns</p>\n",
              "</div>"
            ],
            "text/plain": [
              "           Brand  Store Number  ... nearest_neighbor distance_to_neighbor\n",
              "17295  Starbucks  21070-104953  ...            17267            15.612447\n",
              "17267  Starbucks   21030-58899  ...            17295            15.612447\n",
              "17278  Starbucks  21071-107523  ...            17284             8.059888\n",
              "17291  Starbucks   21040-85520  ...            17261             7.322419\n",
              "17294  Starbucks  21073-102259  ...            17292             6.739833\n",
              "...          ...           ...  ...              ...                  ...\n",
              "17202  Starbucks   21034-73360  ...            17204             0.643386\n",
              "17206  Starbucks  21063-101700  ...            17205             0.643342\n",
              "17205  Starbucks   21005-10034  ...            17206             0.643342\n",
              "17269  Starbucks  20315-202708  ...            17270             0.643210\n",
              "17270  Starbucks   21047-93484  ...            17269             0.643210\n",
              "\n",
              "[99 rows x 16 columns]"
            ]
          },
          "metadata": {
            "tags": []
          },
          "execution_count": 61
        }
      ]
    }
  ]
}