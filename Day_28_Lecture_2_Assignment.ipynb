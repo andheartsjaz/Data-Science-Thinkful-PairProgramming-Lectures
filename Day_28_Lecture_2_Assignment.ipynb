{
  "nbformat": 4,
  "nbformat_minor": 0,
  "metadata": {
    "kernelspec": {
      "display_name": "Python 3",
      "language": "python",
      "name": "python3"
    },
    "language_info": {
      "codemirror_mode": {
        "name": "ipython",
        "version": 3
      },
      "file_extension": ".py",
      "mimetype": "text/x-python",
      "name": "python",
      "nbconvert_exporter": "python",
      "pygments_lexer": "ipython3",
      "version": "3.7.0"
    },
    "colab": {
      "name": "Day 28 Lecture 2 Assignment.ipynb",
      "provenance": [],
      "collapsed_sections": [],
      "include_colab_link": true
    }
  },
  "cells": [
    {
      "cell_type": "markdown",
      "metadata": {
        "id": "view-in-github",
        "colab_type": "text"
      },
      "source": [
        "<a href=\"https://colab.research.google.com/github/andheartsjaz/Public/blob/master/Day_28_Lecture_2_Assignment.ipynb\" target=\"_parent\"><img src=\"https://colab.research.google.com/assets/colab-badge.svg\" alt=\"Open In Colab\"/></a>"
      ]
    },
    {
      "cell_type": "markdown",
      "metadata": {
        "id": "l_EB26fDZSTw",
        "colab_type": "text"
      },
      "source": [
        "## Day 28 Lecture 2 Assignment\n",
        "\n",
        "In this assignment, we will learn about overfitting and regularization. We will use the king county housing dataset loaded below and analyze the regression from this dataset."
      ]
    },
    {
      "cell_type": "code",
      "metadata": {
        "id": "BA-ZSTtNZSTx",
        "colab_type": "code",
        "colab": {}
      },
      "source": [
        "import warnings\n",
        "import pandas as pd\n",
        "import numpy as np\n",
        "\n",
        "import statsmodels.api as sm\n",
        "from statsmodels.stats.outliers_influence import variance_inflation_factor\n",
        "\n",
        "from sklearn.model_selection import train_test_split, GridSearchCV\n",
        "from sklearn.linear_model import Ridge, Lasso, ElasticNet, LinearRegression\n",
        "\n",
        "import matplotlib.pyplot as plt\n",
        "%matplotlib inline"
      ],
      "execution_count": 0,
      "outputs": []
    },
    {
      "cell_type": "code",
      "metadata": {
        "id": "LQgBTvTLZSTz",
        "colab_type": "code",
        "colab": {}
      },
      "source": [
        "king_county = pd.read_csv('https://tf-assets-prod.s3.amazonaws.com/tf-curric/data-science/kc_house_data.csv')"
      ],
      "execution_count": 0,
      "outputs": []
    },
    {
      "cell_type": "code",
      "metadata": {
        "id": "0zGwfiXuZST1",
        "colab_type": "code",
        "outputId": "f151ad7a-4e71-4348-fd27-497a4ca9388a",
        "colab": {
          "base_uri": "https://localhost:8080/",
          "height": 197
        }
      },
      "source": [
        "king_county.head()"
      ],
      "execution_count": 0,
      "outputs": [
        {
          "output_type": "execute_result",
          "data": {
            "text/html": [
              "<div>\n",
              "<style scoped>\n",
              "    .dataframe tbody tr th:only-of-type {\n",
              "        vertical-align: middle;\n",
              "    }\n",
              "\n",
              "    .dataframe tbody tr th {\n",
              "        vertical-align: top;\n",
              "    }\n",
              "\n",
              "    .dataframe thead th {\n",
              "        text-align: right;\n",
              "    }\n",
              "</style>\n",
              "<table border=\"1\" class=\"dataframe\">\n",
              "  <thead>\n",
              "    <tr style=\"text-align: right;\">\n",
              "      <th></th>\n",
              "      <th>id</th>\n",
              "      <th>date</th>\n",
              "      <th>price</th>\n",
              "      <th>bedrooms</th>\n",
              "      <th>bathrooms</th>\n",
              "      <th>sqft_living</th>\n",
              "      <th>sqft_lot</th>\n",
              "      <th>floors</th>\n",
              "      <th>waterfront</th>\n",
              "      <th>view</th>\n",
              "      <th>condition</th>\n",
              "      <th>grade</th>\n",
              "      <th>sqft_above</th>\n",
              "      <th>sqft_basement</th>\n",
              "      <th>yr_built</th>\n",
              "      <th>yr_renovated</th>\n",
              "      <th>zipcode</th>\n",
              "      <th>lat</th>\n",
              "      <th>long</th>\n",
              "      <th>sqft_living15</th>\n",
              "      <th>sqft_lot15</th>\n",
              "    </tr>\n",
              "  </thead>\n",
              "  <tbody>\n",
              "    <tr>\n",
              "      <th>0</th>\n",
              "      <td>7129300520</td>\n",
              "      <td>20141013T000000</td>\n",
              "      <td>221900.0</td>\n",
              "      <td>3</td>\n",
              "      <td>1.00</td>\n",
              "      <td>1180</td>\n",
              "      <td>5650</td>\n",
              "      <td>1.0</td>\n",
              "      <td>0</td>\n",
              "      <td>0</td>\n",
              "      <td>3</td>\n",
              "      <td>7</td>\n",
              "      <td>1180</td>\n",
              "      <td>0</td>\n",
              "      <td>1955</td>\n",
              "      <td>0</td>\n",
              "      <td>98178</td>\n",
              "      <td>47.5112</td>\n",
              "      <td>-122.257</td>\n",
              "      <td>1340</td>\n",
              "      <td>5650</td>\n",
              "    </tr>\n",
              "    <tr>\n",
              "      <th>1</th>\n",
              "      <td>6414100192</td>\n",
              "      <td>20141209T000000</td>\n",
              "      <td>538000.0</td>\n",
              "      <td>3</td>\n",
              "      <td>2.25</td>\n",
              "      <td>2570</td>\n",
              "      <td>7242</td>\n",
              "      <td>2.0</td>\n",
              "      <td>0</td>\n",
              "      <td>0</td>\n",
              "      <td>3</td>\n",
              "      <td>7</td>\n",
              "      <td>2170</td>\n",
              "      <td>400</td>\n",
              "      <td>1951</td>\n",
              "      <td>1991</td>\n",
              "      <td>98125</td>\n",
              "      <td>47.7210</td>\n",
              "      <td>-122.319</td>\n",
              "      <td>1690</td>\n",
              "      <td>7639</td>\n",
              "    </tr>\n",
              "    <tr>\n",
              "      <th>2</th>\n",
              "      <td>5631500400</td>\n",
              "      <td>20150225T000000</td>\n",
              "      <td>180000.0</td>\n",
              "      <td>2</td>\n",
              "      <td>1.00</td>\n",
              "      <td>770</td>\n",
              "      <td>10000</td>\n",
              "      <td>1.0</td>\n",
              "      <td>0</td>\n",
              "      <td>0</td>\n",
              "      <td>3</td>\n",
              "      <td>6</td>\n",
              "      <td>770</td>\n",
              "      <td>0</td>\n",
              "      <td>1933</td>\n",
              "      <td>0</td>\n",
              "      <td>98028</td>\n",
              "      <td>47.7379</td>\n",
              "      <td>-122.233</td>\n",
              "      <td>2720</td>\n",
              "      <td>8062</td>\n",
              "    </tr>\n",
              "    <tr>\n",
              "      <th>3</th>\n",
              "      <td>2487200875</td>\n",
              "      <td>20141209T000000</td>\n",
              "      <td>604000.0</td>\n",
              "      <td>4</td>\n",
              "      <td>3.00</td>\n",
              "      <td>1960</td>\n",
              "      <td>5000</td>\n",
              "      <td>1.0</td>\n",
              "      <td>0</td>\n",
              "      <td>0</td>\n",
              "      <td>5</td>\n",
              "      <td>7</td>\n",
              "      <td>1050</td>\n",
              "      <td>910</td>\n",
              "      <td>1965</td>\n",
              "      <td>0</td>\n",
              "      <td>98136</td>\n",
              "      <td>47.5208</td>\n",
              "      <td>-122.393</td>\n",
              "      <td>1360</td>\n",
              "      <td>5000</td>\n",
              "    </tr>\n",
              "    <tr>\n",
              "      <th>4</th>\n",
              "      <td>1954400510</td>\n",
              "      <td>20150218T000000</td>\n",
              "      <td>510000.0</td>\n",
              "      <td>3</td>\n",
              "      <td>2.00</td>\n",
              "      <td>1680</td>\n",
              "      <td>8080</td>\n",
              "      <td>1.0</td>\n",
              "      <td>0</td>\n",
              "      <td>0</td>\n",
              "      <td>3</td>\n",
              "      <td>8</td>\n",
              "      <td>1680</td>\n",
              "      <td>0</td>\n",
              "      <td>1987</td>\n",
              "      <td>0</td>\n",
              "      <td>98074</td>\n",
              "      <td>47.6168</td>\n",
              "      <td>-122.045</td>\n",
              "      <td>1800</td>\n",
              "      <td>7503</td>\n",
              "    </tr>\n",
              "  </tbody>\n",
              "</table>\n",
              "</div>"
            ],
            "text/plain": [
              "           id             date     price  ...     long  sqft_living15  sqft_lot15\n",
              "0  7129300520  20141013T000000  221900.0  ... -122.257           1340        5650\n",
              "1  6414100192  20141209T000000  538000.0  ... -122.319           1690        7639\n",
              "2  5631500400  20150225T000000  180000.0  ... -122.233           2720        8062\n",
              "3  2487200875  20141209T000000  604000.0  ... -122.393           1360        5000\n",
              "4  1954400510  20150218T000000  510000.0  ... -122.045           1800        7503\n",
              "\n",
              "[5 rows x 21 columns]"
            ]
          },
          "metadata": {
            "tags": []
          },
          "execution_count": 35
        }
      ]
    },
    {
      "cell_type": "markdown",
      "metadata": {
        "id": "RRLvjs_OZST3",
        "colab_type": "text"
      },
      "source": [
        "Perform the same transformations in the previous assignment to meet model assumptions:\n",
        "1. Transform price and sqft_living by applying the natual log\n",
        "2. Remove all columns except: log price, bedrooms, bathrooms, log_sqft_living, floors, waterfront\n",
        "3. Split the data into train and test subsets. 20% of the data should be in the test subset"
      ]
    },
    {
      "cell_type": "code",
      "metadata": {
        "id": "tzX8zIEYZST4",
        "colab_type": "code",
        "outputId": "73dca14b-d822-44b7-c1af-ad6445c51847",
        "colab": {
          "base_uri": "https://localhost:8080/",
          "height": 443
        }
      },
      "source": [
        "# Transform answer below:\n",
        "log_price = np.log(king_county['price'])\n",
        "log_living = np.log(king_county['sqft_living'])\n",
        "king_county['price'] = log_price\n",
        "king_county['sqft_living'] = log_living\n",
        "\n",
        "print(log_price)\n",
        "print(log_living)"
      ],
      "execution_count": 0,
      "outputs": [
        {
          "output_type": "stream",
          "text": [
            "0        12.309982\n",
            "1        13.195614\n",
            "2        12.100712\n",
            "3        13.311329\n",
            "4        13.142166\n",
            "           ...    \n",
            "21608    12.793859\n",
            "21609    12.899220\n",
            "21610    12.904459\n",
            "21611    12.899220\n",
            "21612    12.691580\n",
            "Name: price, Length: 21613, dtype: float64\n",
            "0        7.073270\n",
            "1        7.851661\n",
            "2        6.646391\n",
            "3        7.580700\n",
            "4        7.426549\n",
            "           ...   \n",
            "21608    7.333023\n",
            "21609    7.745003\n",
            "21610    6.927558\n",
            "21611    7.377759\n",
            "21612    6.927558\n",
            "Name: sqft_living, Length: 21613, dtype: float64\n"
          ],
          "name": "stdout"
        }
      ]
    },
    {
      "cell_type": "code",
      "metadata": {
        "id": "6PFtgbQhFHqJ",
        "colab_type": "code",
        "outputId": "15bd2c6b-3a1d-4214-e0e8-49205fef0a84",
        "colab": {
          "base_uri": "https://localhost:8080/",
          "height": 197
        }
      },
      "source": [
        "# Remove all columns except log_price, log_living, bedrooms,\n",
        "# bathrooms, floors and waterfront\n",
        "log_data = king_county[['price', 'sqft_living', 'bedrooms', 'bathrooms',\n",
        "                          'floors', 'waterfront']]\n",
        "log_data.head()"
      ],
      "execution_count": 0,
      "outputs": [
        {
          "output_type": "execute_result",
          "data": {
            "text/html": [
              "<div>\n",
              "<style scoped>\n",
              "    .dataframe tbody tr th:only-of-type {\n",
              "        vertical-align: middle;\n",
              "    }\n",
              "\n",
              "    .dataframe tbody tr th {\n",
              "        vertical-align: top;\n",
              "    }\n",
              "\n",
              "    .dataframe thead th {\n",
              "        text-align: right;\n",
              "    }\n",
              "</style>\n",
              "<table border=\"1\" class=\"dataframe\">\n",
              "  <thead>\n",
              "    <tr style=\"text-align: right;\">\n",
              "      <th></th>\n",
              "      <th>price</th>\n",
              "      <th>sqft_living</th>\n",
              "      <th>bedrooms</th>\n",
              "      <th>bathrooms</th>\n",
              "      <th>floors</th>\n",
              "      <th>waterfront</th>\n",
              "    </tr>\n",
              "  </thead>\n",
              "  <tbody>\n",
              "    <tr>\n",
              "      <th>0</th>\n",
              "      <td>12.309982</td>\n",
              "      <td>7.073270</td>\n",
              "      <td>3</td>\n",
              "      <td>1.00</td>\n",
              "      <td>1.0</td>\n",
              "      <td>0</td>\n",
              "    </tr>\n",
              "    <tr>\n",
              "      <th>1</th>\n",
              "      <td>13.195614</td>\n",
              "      <td>7.851661</td>\n",
              "      <td>3</td>\n",
              "      <td>2.25</td>\n",
              "      <td>2.0</td>\n",
              "      <td>0</td>\n",
              "    </tr>\n",
              "    <tr>\n",
              "      <th>2</th>\n",
              "      <td>12.100712</td>\n",
              "      <td>6.646391</td>\n",
              "      <td>2</td>\n",
              "      <td>1.00</td>\n",
              "      <td>1.0</td>\n",
              "      <td>0</td>\n",
              "    </tr>\n",
              "    <tr>\n",
              "      <th>3</th>\n",
              "      <td>13.311329</td>\n",
              "      <td>7.580700</td>\n",
              "      <td>4</td>\n",
              "      <td>3.00</td>\n",
              "      <td>1.0</td>\n",
              "      <td>0</td>\n",
              "    </tr>\n",
              "    <tr>\n",
              "      <th>4</th>\n",
              "      <td>13.142166</td>\n",
              "      <td>7.426549</td>\n",
              "      <td>3</td>\n",
              "      <td>2.00</td>\n",
              "      <td>1.0</td>\n",
              "      <td>0</td>\n",
              "    </tr>\n",
              "  </tbody>\n",
              "</table>\n",
              "</div>"
            ],
            "text/plain": [
              "       price  sqft_living  bedrooms  bathrooms  floors  waterfront\n",
              "0  12.309982     7.073270         3       1.00     1.0           0\n",
              "1  13.195614     7.851661         3       2.25     2.0           0\n",
              "2  12.100712     6.646391         2       1.00     1.0           0\n",
              "3  13.311329     7.580700         4       3.00     1.0           0\n",
              "4  13.142166     7.426549         3       2.00     1.0           0"
            ]
          },
          "metadata": {
            "tags": []
          },
          "execution_count": 37
        }
      ]
    },
    {
      "cell_type": "code",
      "metadata": {
        "id": "8buBvEToZST6",
        "colab_type": "code",
        "outputId": "47cca497-485e-4d32-f03e-568adbefa36c",
        "colab": {
          "base_uri": "https://localhost:8080/",
          "height": 52
        }
      },
      "source": [
        "# Split data into test and train sets with size = 20%:\n",
        "X = log_data\n",
        "y = log_data['price']\n",
        "\n",
        "X_train, X_test, y_train, y_test = train_test_split(X, y, \n",
        "                                                    test_size=0.2, \n",
        "                                                    random_state=42)"
      ],
      "execution_count": 0,
      "outputs": [
        {
          "output_type": "execute_result",
          "data": {
            "text/plain": [
              "Ridge(alpha=50, copy_X=True, fit_intercept=True, max_iter=None, normalize=False,\n",
              "      random_state=None, solver='auto', tol=0.001)"
            ]
          },
          "metadata": {
            "tags": []
          },
          "execution_count": 38
        }
      ]
    },
    {
      "cell_type": "markdown",
      "metadata": {
        "id": "VNMo0gkkZST5",
        "colab_type": "text"
      },
      "source": [
        "Apply a ridge regression model with lambda=50 to the data and evaluate by looking at r squared for test and train"
      ]
    },
    {
      "cell_type": "code",
      "metadata": {
        "id": "QJf3heW7QnaR",
        "colab_type": "code",
        "colab": {}
      },
      "source": [
        "linear = LinearRegression()\n",
        "linear.fit(X_train, y_train)\n",
        "\n",
        "ridge = Ridge(alpha=50)\n",
        "ridge.fit(X_train, y_train)"
      ],
      "execution_count": 0,
      "outputs": []
    },
    {
      "cell_type": "code",
      "metadata": {
        "id": "O-z2WKP7PG2U",
        "colab_type": "code",
        "outputId": "a858658b-3501-4530-874e-6be9ef38c84e",
        "colab": {
          "base_uri": "https://localhost:8080/",
          "height": 105
        }
      },
      "source": [
        "print(f'LinearRegression Train R^2: {linear.score(X_train, y_train):.2f}')\n",
        "print(f'LinearRegression Test R^2: {linear.score(X_test, y_test):.2f}')\n",
        "\n",
        "print(f'\\nRidge Train R^2: {ridge.score(X_train, y_train):.2f}')\n",
        "print(f'Ridge Test R^2: {ridge.score(X_test, y_test):.2f}')"
      ],
      "execution_count": 0,
      "outputs": [
        {
          "output_type": "stream",
          "text": [
            "LinearRegression Train R^2: 1.00\n",
            "LinearRegression Test R^2: 1.00\n",
            "\n",
            "Ridge Train R^2: 1.00\n",
            "Ridge Test R^2: 1.00\n"
          ],
          "name": "stdout"
        }
      ]
    },
    {
      "cell_type": "markdown",
      "metadata": {
        "id": "bxTedVNiZST7",
        "colab_type": "text"
      },
      "source": [
        "Perform a grid search for the following values of alpha: 1, 5, 10, 100, 500, 1000, 10000 to find the most optimal ridge regression model."
      ]
    },
    {
      "cell_type": "code",
      "metadata": {
        "id": "Mp9AYRMYZST8",
        "colab_type": "code",
        "outputId": "48200476-2962-49ee-b29a-b2fa72adf669",
        "colab": {
          "base_uri": "https://localhost:8080/",
          "height": 105
        }
      },
      "source": [
        "#answer below:\n",
        "grid = [{'alpha': [1, 5, 10, 100, 500, 1000, 10000]}]\n",
        "ridge_cv = GridSearchCV(Ridge(), grid)\n",
        "ridge_cv.fit(X_train, np.log(y_train))\n",
        "\n",
        "# The best fit is in the best_estimator_ attribute\n",
        "print(f'selected alpha: {ridge_cv.best_estimator_.alpha}')\n",
        "ridge_cv.best_estimator_.coef_"
      ],
      "execution_count": 0,
      "outputs": [
        {
          "output_type": "stream",
          "text": [
            "/usr/local/lib/python3.6/dist-packages/sklearn/model_selection/_split.py:1978: FutureWarning: The default value of cv will change from 3 to 5 in version 0.22. Specify it explicitly to silence this warning.\n",
            "  warnings.warn(CV_WARNING, FutureWarning)\n"
          ],
          "name": "stderr"
        },
        {
          "output_type": "stream",
          "text": [
            "selected alpha: 1\n"
          ],
          "name": "stdout"
        },
        {
          "output_type": "execute_result",
          "data": {
            "text/plain": [
              "array([ 7.63326383e-02, -2.77221912e-05,  4.30077884e-05, -2.35794617e-04,\n",
              "        2.31030726e-04, -2.86888427e-03])"
            ]
          },
          "metadata": {
            "tags": []
          },
          "execution_count": 43
        }
      ]
    },
    {
      "cell_type": "code",
      "metadata": {
        "id": "EQZY-KDlZST9",
        "colab_type": "code",
        "outputId": "603a79c8-8d24-4264-8b1d-c9e2dec2376a",
        "colab": {
          "base_uri": "https://localhost:8080/",
          "height": 105
        }
      },
      "source": [
        "# check the results with the new alpha selected by the GSCV\n",
        "ridge = Ridge(alpha=1)\n",
        "ridge.fit(X_train, y_train)\n",
        "\n",
        "print(f'LinearRegression Train R^2: {linear.score(X_train, y_train):.2f}')\n",
        "print(f'LinearRegression Test R^2: {linear.score(X_test, y_test):.2f}')\n",
        "\n",
        "print(f'\\nRidge Train R^2: {ridge.score(X_train, y_train):.2f}')\n",
        "print(f'Ridge Test R^2: {ridge.score(X_test, y_test):.2f}')"
      ],
      "execution_count": 0,
      "outputs": [
        {
          "output_type": "stream",
          "text": [
            "LinearRegression Train R^2: 1.00\n",
            "LinearRegression Test R^2: 1.00\n",
            "\n",
            "Ridge Train R^2: 1.00\n",
            "Ridge Test R^2: 1.00\n"
          ],
          "name": "stdout"
        }
      ]
    }
  ]
}