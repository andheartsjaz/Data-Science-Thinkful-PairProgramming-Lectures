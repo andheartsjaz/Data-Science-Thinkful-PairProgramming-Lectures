{
 "cells": [
  {
   "cell_type": "markdown",
   "metadata": {
    "colab_type": "text",
    "id": "M2KdyctgnibH"
   },
   "source": [
    "## Day 31 Lecture 1 Assignment\n",
    "\n",
    "In this assignment, we will learn about the K nearest neighbor algorithm. We will use the acute nephritis dataset loaded below and analyze the model generated for this datasett."
   ]
  },
  {
   "cell_type": "code",
   "execution_count": 19,
   "metadata": {
    "colab": {},
    "colab_type": "code",
    "id": "_4W40Ca-nibI"
   },
   "outputs": [],
   "source": [
    "%matplotlib inline\n",
    "\n",
    "import math\n",
    "\n",
    "import matplotlib.pyplot as plt\n",
    "import numpy as nps\n",
    "import pandas as pd"
   ]
  },
  {
   "cell_type": "code",
   "execution_count": 20,
   "metadata": {
    "colab": {},
    "colab_type": "code",
    "id": "xLDuKv44nibK"
   },
   "outputs": [],
   "source": [
    "# columns: \n",
    "# Temperature of patient { 35C-42C }\n",
    "# Occurrence of nausea { yes, no }\n",
    "# Lumbar pain { yes, no }\n",
    "# Urine pushing (continuous need for urination) { yes, no }\n",
    "# Micturition pains { yes, no }\n",
    "# Burning of urethra, itch, swelling of urethra outlet { yes, no }\n",
    "# decision: Nephritis of renal pelvis origin { yes, no } \n",
    "\n",
    "cols = ['temp', 'nausea', 'lumbar_pain', 'urine_pushing', 'micturition_pains', 'burning', 'nephritis']\n",
    "nephritis = pd.read_csv('https://tf-assets-prod.s3.amazonaws.com/tf-curric/data-science/acute.csv', names=cols, na_values='NaN') # note, added na_values parameter"
   ]
  },
  {
   "cell_type": "code",
   "execution_count": 21,
   "metadata": {
    "colab": {},
    "colab_type": "code",
    "id": "mGz23CJAnibM",
    "outputId": "05ca065c-44c4-4eb7-b538-a28e6ab1881a"
   },
   "outputs": [
    {
     "data": {
      "text/html": [
       "<div>\n",
       "<style scoped>\n",
       "    .dataframe tbody tr th:only-of-type {\n",
       "        vertical-align: middle;\n",
       "    }\n",
       "\n",
       "    .dataframe tbody tr th {\n",
       "        vertical-align: top;\n",
       "    }\n",
       "\n",
       "    .dataframe thead th {\n",
       "        text-align: right;\n",
       "    }\n",
       "</style>\n",
       "<table border=\"1\" class=\"dataframe\">\n",
       "  <thead>\n",
       "    <tr style=\"text-align: right;\">\n",
       "      <th></th>\n",
       "      <th>temp</th>\n",
       "      <th>nausea</th>\n",
       "      <th>lumbar_pain</th>\n",
       "      <th>urine_pushing</th>\n",
       "      <th>micturition_pains</th>\n",
       "      <th>burning</th>\n",
       "      <th>nephritis</th>\n",
       "    </tr>\n",
       "  </thead>\n",
       "  <tbody>\n",
       "    <tr>\n",
       "      <th>35</th>\n",
       "      <td>5</td>\n",
       "      <td>no</td>\n",
       "      <td>yes</td>\n",
       "      <td>no</td>\n",
       "      <td>no</td>\n",
       "      <td>no</td>\n",
       "      <td>no</td>\n",
       "    </tr>\n",
       "    <tr>\n",
       "      <th>35</th>\n",
       "      <td>9</td>\n",
       "      <td>no</td>\n",
       "      <td>no</td>\n",
       "      <td>yes</td>\n",
       "      <td>yes</td>\n",
       "      <td>yes</td>\n",
       "      <td>no</td>\n",
       "    </tr>\n",
       "    <tr>\n",
       "      <th>35</th>\n",
       "      <td>9</td>\n",
       "      <td>no</td>\n",
       "      <td>yes</td>\n",
       "      <td>no</td>\n",
       "      <td>no</td>\n",
       "      <td>no</td>\n",
       "      <td>no</td>\n",
       "    </tr>\n",
       "    <tr>\n",
       "      <th>36</th>\n",
       "      <td>0</td>\n",
       "      <td>no</td>\n",
       "      <td>no</td>\n",
       "      <td>yes</td>\n",
       "      <td>yes</td>\n",
       "      <td>yes</td>\n",
       "      <td>no</td>\n",
       "    </tr>\n",
       "    <tr>\n",
       "      <th>36</th>\n",
       "      <td>0</td>\n",
       "      <td>no</td>\n",
       "      <td>yes</td>\n",
       "      <td>no</td>\n",
       "      <td>no</td>\n",
       "      <td>no</td>\n",
       "      <td>no</td>\n",
       "    </tr>\n",
       "  </tbody>\n",
       "</table>\n",
       "</div>"
      ],
      "text/plain": [
       "    temp nausea lumbar_pain urine_pushing micturition_pains burning nephritis\n",
       "35     5     no         yes            no                no      no        no\n",
       "35     9     no          no           yes               yes     yes        no\n",
       "35     9     no         yes            no                no      no        no\n",
       "36     0     no          no           yes               yes     yes        no\n",
       "36     0     no         yes            no                no      no        no"
      ]
     },
     "execution_count": 21,
     "metadata": {},
     "output_type": "execute_result"
    }
   ],
   "source": [
    "nephritis.head()"
   ]
  },
  {
   "cell_type": "markdown",
   "metadata": {
    "colab_type": "text",
    "id": "W-WdgVdQnibO"
   },
   "source": [
    "First, check for missing data and remove all rows containing missing data"
   ]
  },
  {
   "cell_type": "code",
   "execution_count": 22,
   "metadata": {
    "colab": {},
    "colab_type": "code",
    "id": "jZBtOoojnibO"
   },
   "outputs": [
    {
     "data": {
      "text/plain": [
       "temp                 0.0\n",
       "nausea               0.0\n",
       "lumbar_pain          0.0\n",
       "urine_pushing        0.0\n",
       "micturition_pains    0.0\n",
       "burning              0.0\n",
       "nephritis            0.0\n",
       "dtype: float64"
      ]
     },
     "execution_count": 22,
     "metadata": {},
     "output_type": "execute_result"
    }
   ],
   "source": [
    "# answer below:\n",
    "nephritis.isnull().sum()*100/nephritis.count()"
   ]
  },
  {
   "cell_type": "markdown",
   "metadata": {
    "colab_type": "text",
    "id": "iWPncc2LnibQ"
   },
   "source": [
    "To use the data, we must convert all columns to numeric. Do this using the `get_dummies` function for all non-numeric columns.\n",
    "\n",
    "Note: remember to drop the first value."
   ]
  },
  {
   "cell_type": "code",
   "execution_count": 23,
   "metadata": {
    "colab": {},
    "colab_type": "code",
    "id": "gjhVEZWfnibQ"
   },
   "outputs": [
    {
     "name": "stdout",
     "output_type": "stream",
     "text": [
      "<class 'pandas.core.frame.DataFrame'>\n",
      "Int64Index: 120 entries, 35 to 41\n",
      "Data columns (total 7 columns):\n",
      "temp                 120 non-null int64\n",
      "nausea               120 non-null object\n",
      "lumbar_pain          120 non-null object\n",
      "urine_pushing        120 non-null object\n",
      "micturition_pains    120 non-null object\n",
      "burning              120 non-null object\n",
      "nephritis            120 non-null object\n",
      "dtypes: int64(1), object(6)\n",
      "memory usage: 7.5+ KB\n"
     ]
    },
    {
     "data": {
      "text/plain": [
       "Index(['temp', 'nausea_yes', 'lumbar_pain_yes', 'urine_pushing_yes',\n",
       "       'micturition_pains_yes', 'burning_yes', 'nephritis_yes'],\n",
       "      dtype='object')"
      ]
     },
     "execution_count": 23,
     "metadata": {},
     "output_type": "execute_result"
    }
   ],
   "source": [
    "# answer below:\n",
    "\n",
    "nephritis.info()\n",
    "nephritis.iloc[:0,].T\n",
    "\n",
    "''' \n",
    "current data types \n",
    "temp - int\"\n",
    "nausea - obj\n",
    "lumbar_pain - obj\n",
    "urine_pushing - obj\n",
    "micturition_pains - obj\n",
    "burning - obj '''\n",
    "\n",
    "nephritis.columns\n",
    "cols = ['nausea', 'lumbar_pain', 'urine_pushing', 'micturition_pains', 'burning', 'nephritis']\n",
    "\n",
    "nephritis_numeric = pd.get_dummies(data=nephritis, columns=cols, dtype=float, drop_first=True)\n",
    "# dummy_df.head(12)\n",
    "\n",
    "# nephritis.shape #120,7\n",
    "nephritis_numeric.shape == nephritis.shape #True\n",
    "nephritis_numeric.columns"
   ]
  },
  {
   "cell_type": "markdown",
   "metadata": {
    "colab_type": "text",
    "id": "23bu6dmdnibS"
   },
   "source": [
    "Split the data into train and test. Use 20% of the data for our test subset. Use nephritis as the target variable."
   ]
  },
  {
   "cell_type": "code",
   "execution_count": 24,
   "metadata": {
    "colab": {},
    "colab_type": "code",
    "id": "4wJEzH6JnibT"
   },
   "outputs": [],
   "source": [
    "# answer below:\n",
    "import numpy as np\n",
    "from sklearn.model_selection import train_test_split\n",
    "\n",
    "X = nephritis_numeric.drop(axis=1, columns='nephritis_yes')\n",
    "y = nephritis_numeric['nephritis_yes']\n",
    "\n",
    "X_train, X_test, y_train, y_test = train_test_split(X, y, test_size=0.20, random_state=42)\n",
    "\n"
   ]
  },
  {
   "cell_type": "markdown",
   "metadata": {
    "colab_type": "text",
    "id": "8J8-ejQmnibV"
   },
   "source": [
    "Generate a KNN model with k=5 for the dataset.  What is the accuracy score for the train and test subsamples?"
   ]
  },
  {
   "cell_type": "code",
   "execution_count": 25,
   "metadata": {
    "colab": {},
    "colab_type": "code",
    "id": "RIspj5YFnibV"
   },
   "outputs": [
    {
     "name": "stdout",
     "output_type": "stream",
     "text": [
      "0.9791666666666666\n",
      "0.9583333333333334\n"
     ]
    }
   ],
   "source": [
    "# answer below:\n",
    "\n",
    "from sklearn.neighbors import KNeighborsClassifier\n",
    "\n",
    "knn = KNeighborsClassifier(n_neighbors=5)\n",
    "knn.fit(X,y)\n",
    "\n",
    "knn.predict(X_test)\n",
    "print(knn.score(X_train, y_train)) # accuracy\n",
    "print(knn.score(X_test, y_test)) # accuracy\n"
   ]
  },
  {
   "cell_type": "markdown",
   "metadata": {},
   "source": [
    "## The accuracy score for the train model is: 98%\n",
    "## The accuracy score for the test model is: 95%"
   ]
  },
  {
   "cell_type": "markdown",
   "metadata": {
    "colab_type": "text",
    "id": "MbOiVNTwnibX"
   },
   "source": [
    "Would you say the model overfits? Why or why not? Put your answer in the comment below."
   ]
  },
  {
   "cell_type": "markdown",
   "metadata": {
    "colab": {},
    "colab_type": "code",
    "id": "o7GQxMwKnibY"
   },
   "source": [
    "# answer below:\n",
    "### Since the test model performed better than the train model, we can conclude that the model is overfit"
   ]
  },
  {
   "cell_type": "markdown",
   "metadata": {
    "colab_type": "text",
    "id": "e2So7eMOnibZ"
   },
   "source": [
    "Let's optimize k. Produce a plot with training and testing accuracy for a wide range of k."
   ]
  },
  {
   "cell_type": "code",
   "execution_count": 26,
   "metadata": {},
   "outputs": [],
   "source": [
    "train_accs = [] \n",
    "test_accs = []\n",
    "\n",
    "min_k = 1 \n",
    "max_k = X_train.shape[0] \n",
    "\n",
    "for k in range(min_k, max_k): \n",
    "    knn = KNeighborsClassifier(n_neighbors=k) \n",
    "    knn.fit(X_train, y_train)\n",
    "\n",
    "    train_acc = knn.score(X_train, y_train) \n",
    "    test_acc = knn.score(X_test, y_test)\n",
    "\n",
    "    train_accs.append(train_acc) \n",
    "    test_accs.append(test_acc)"
   ]
  },
  {
   "cell_type": "code",
   "execution_count": 27,
   "metadata": {
    "colab": {},
    "colab_type": "code",
    "id": "m-uag4WNniba"
   },
   "outputs": [
    {
     "data": {
      "image/png": "[encoded data removed]",
      "text/plain": [
       "<Figure size 720x360 with 1 Axes>"
      ]
     },
     "metadata": {
      "needs_background": "light"
     },
     "output_type": "display_data"
    }
   ],
   "source": [
    "# answer below:\n",
    "plt.figure(figsize=(10,5))\n",
    "plt.plot(train_accs, label='Train')\n",
    "plt.plot(test_accs, label='Test')\n",
    "\n",
    "plt.xlabel('k')\n",
    "plt.ylabel('Accuracy')\n",
    "plt.ylim((0,1))\n",
    "\n",
    "plt.legend()\n",
    "plt.show()"
   ]
  }
 ],
 "metadata": {
  "colab": {
   "collapsed_sections": [],
   "name": "Day 31 Lecture 1 Assignment.ipynb",
   "provenance": []
  },
  "kernelspec": {
   "display_name": "Python 3",
   "language": "python",
   "name": "python3"
  },
  "language_info": {
   "codemirror_mode": {
    "name": "ipython",
    "version": 3
   },
   "file_extension": ".py",
   "mimetype": "text/x-python",
   "name": "python",
   "nbconvert_exporter": "python",
   "pygments_lexer": "ipython3",
   "version": "3.7.3"
  }
 },
 "nbformat": 4,
 "nbformat_minor": 2
}
