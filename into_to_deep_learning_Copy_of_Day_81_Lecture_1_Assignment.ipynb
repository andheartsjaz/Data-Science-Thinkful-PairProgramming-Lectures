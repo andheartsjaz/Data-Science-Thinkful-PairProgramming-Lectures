{
  "nbformat": 4,
  "nbformat_minor": 0,
  "metadata": {
    "kernelspec": {
      "display_name": "Python 3",
      "language": "python",
      "name": "python3"
    },
    "language_info": {
      "codemirror_mode": {
        "name": "ipython",
        "version": 3
      },
      "file_extension": ".py",
      "mimetype": "text/x-python",
      "name": "python",
      "nbconvert_exporter": "python",
      "pygments_lexer": "ipython3",
      "version": "3.7.0"
    },
    "colab": {
      "name": "into to deep learning Copy of Day 81 Lecture 1 Assignment.ipynb",
      "provenance": [],
      "collapsed_sections": []
    }
  },
  "cells": [
    {
      "cell_type": "markdown",
      "metadata": {
        "id": "T-xOZ1mZ51O8",
        "colab_type": "text"
      },
      "source": [
        "## Introduction to Deep Learning\n",
        "\n",
        "In this assignment, we will learn about deep learning and neural networks. Answer the questions below:"
      ]
    },
    {
      "cell_type": "markdown",
      "metadata": {
        "id": "TUBtirr_51O-",
        "colab_type": "text"
      },
      "source": [
        "#### 1. How do neural networks differ from linear models?"
      ]
    },
    {
      "cell_type": "markdown",
      "metadata": {
        "id": "fGwHenMJ51O-",
        "colab_type": "text"
      },
      "source": [
        "Neural networks, compared to linear models, contain:\n",
        "\n",
        "1) Layers - including input, hidden and output.\n",
        "\n",
        "2) An activation funtion that makes the outputs non-linear; and,\n",
        "\n",
        "3) Require transformations such as sigmoid or hyperbolic functions to transform the outputs.\n"
      ]
    },
    {
      "cell_type": "markdown",
      "metadata": {
        "id": "tJF-uwtC51O_",
        "colab_type": "text"
      },
      "source": [
        "#### 2. Why do deep networks outperform shallow networks?"
      ]
    },
    {
      "cell_type": "markdown",
      "metadata": {
        "id": "JMwwlwBH51PA",
        "colab_type": "text"
      },
      "source": [
        "They deal with larger amounts of data and have increased computational capacity.\n",
        "\n"
      ]
    },
    {
      "cell_type": "markdown",
      "metadata": {
        "id": "8asF2DFW51PA",
        "colab_type": "text"
      },
      "source": [
        "#### 3. Why are dense layers called this way? What is a different name for them? Could we have a layer that is not dense?"
      ]
    },
    {
      "cell_type": "markdown",
      "metadata": {
        "id": "05hZS0ea51PB",
        "colab_type": "text"
      },
      "source": [
        "The dense layer is linearly connected to all the layers.  It is also referred to as the fully connected layer. There are also convolutional and recurrent layers. \n"
      ]
    },
    {
      "cell_type": "markdown",
      "metadata": {
        "id": "FAPTWoY251PB",
        "colab_type": "text"
      },
      "source": [
        "#### 4. Do neural networks tend to overfit less than other models? If so, how?"
      ]
    },
    {
      "cell_type": "markdown",
      "metadata": {
        "id": "BWq4l70N0Lkd",
        "colab_type": "text"
      },
      "source": [
        "The tend to overfit due to containing much more data.\n",
        "\n",
        "***No, it depends on many factors. It might even produce an overfit or have no improvement in model.***\n",
        "\n"
      ]
    },
    {
      "cell_type": "markdown",
      "metadata": {
        "id": "S0CALsKQ51PE",
        "colab_type": "text"
      },
      "source": [
        "#### 5. Will a model with more hidden layers always have a more accurate prediction? Why or why not?"
      ]
    },
    {
      "cell_type": "markdown",
      "metadata": {
        "id": "jBRiGGs90S_G",
        "colab_type": "text"
      },
      "source": [
        "Not necessarily; it could overfit if there are too many layers."
      ]
    },
    {
      "cell_type": "markdown",
      "metadata": {
        "id": "2qxJk3Km51PG",
        "colab_type": "text"
      },
      "source": [
        "#### 6. We generate a neural network for a dataset 10 features. If we have three layers, the first with 64 nodes and the second and third with 32 nodes, how many parameters do we need to estimate?"
      ]
    },
    {
      "cell_type": "markdown",
      "metadata": {
        "id": "HLZ_L0Sy0dy0",
        "colab_type": "text"
      },
      "source": [
        "the parameters are estimated by taking the number features and then adding (1) which accounts for the bias (N + bias) then multiplied by the nodes (11 x 64 x 32) =  "
      ]
    },
    {
      "cell_type": "code",
      "metadata": {
        "id": "kKbl9Xq251PH",
        "colab_type": "code",
        "outputId": "980804c2-b960-4819-e26f-f2fabd8f8a8b",
        "colab": {
          "base_uri": "https://localhost:8080/",
          "height": 35
        }
      },
      "source": [
        "\n",
        "\n",
        "import math\n",
        " \n",
        "\n",
        "l1 = 11 * 64\n",
        "\n",
        "l2 = 65 * 32\n",
        "\n",
        "l3 = 33 * 32\n",
        "\n",
        "ans = l1 + l2 + l3\n",
        "\n",
        "print(ans)"
      ],
      "execution_count": 0,
      "outputs": [
        {
          "output_type": "stream",
          "text": [
            "3840\n"
          ],
          "name": "stdout"
        }
      ]
    },
    {
      "cell_type": "code",
      "metadata": {
        "id": "WiOHShI41K6a",
        "colab_type": "code",
        "colab": {
          "base_uri": "https://localhost:8080/",
          "height": 318
        },
        "outputId": "80f5d087-ae02-4514-f049-9aae5a33efc2"
      },
      "source": [
        "!pip install tensorflow==2.0.0 --quiet\n",
        "from tensorflow.keras.models import Sequential\n",
        "from tensorflow.keras.layers import Dense\n",
        "\n",
        "# intialize the model\n",
        "model = Sequential()\n",
        "model.add(Dense(64, input_dim=10))\n",
        "model.add(Dense(32))\n",
        "model.add(Dense(32))\n",
        "\n",
        "model.summary()"
      ],
      "execution_count": 1,
      "outputs": [
        {
          "output_type": "stream",
          "text": [
            "\u001b[K     |████████████████████████████████| 86.3MB 79kB/s \n",
            "\u001b[K     |████████████████████████████████| 450kB 57.9MB/s \n",
            "\u001b[K     |████████████████████████████████| 3.8MB 56.7MB/s \n",
            "\u001b[?25hModel: \"sequential\"\n",
            "_________________________________________________________________\n",
            "Layer (type)                 Output Shape              Param #   \n",
            "=================================================================\n",
            "dense (Dense)                (None, 64)                704       \n",
            "_________________________________________________________________\n",
            "dense_1 (Dense)              (None, 32)                2080      \n",
            "_________________________________________________________________\n",
            "dense_2 (Dense)              (None, 32)                1056      \n",
            "=================================================================\n",
            "Total params: 3,840\n",
            "Trainable params: 3,840\n",
            "Non-trainable params: 0\n",
            "_________________________________________________________________\n"
          ],
          "name": "stdout"
        }
      ]
    },
    {
      "cell_type": "code",
      "metadata": {
        "id": "ZzTeQ7NQdmjQ",
        "colab_type": "code",
        "colab": {}
      },
      "source": [
        ""
      ],
      "execution_count": 0,
      "outputs": []
    }
  ]
}