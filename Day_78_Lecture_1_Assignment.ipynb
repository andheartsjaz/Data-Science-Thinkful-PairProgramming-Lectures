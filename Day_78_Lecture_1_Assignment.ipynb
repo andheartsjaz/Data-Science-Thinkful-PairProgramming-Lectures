{
  "nbformat": 4,
  "nbformat_minor": 0,
  "metadata": {
    "colab": {
      "name": "Day 78 Lecture 1 Assignment.ipynb",
      "provenance": [],
      "collapsed_sections": []
    },
    "kernelspec": {
      "name": "python2",
      "display_name": "Python 2"
    }
  },
  "cells": [
    {
      "cell_type": "markdown",
      "metadata": {
        "id": "Ry4VDk_llCLY",
        "colab_type": "text"
      },
      "source": [
        "## Day 78 Lecture 1 Assignment\n",
        "\n",
        "In this assignment, we will learn about Spark.\n",
        "\n",
        "Run the cells below to start a spark session."
      ]
    },
    {
      "cell_type": "code",
      "metadata": {
        "id": "vSDT7DgyJOrM",
        "colab_type": "code",
        "colab": {}
      },
      "source": [
        "!apt-get install openjdk-8-jdk-headless -qq > /dev/null"
      ],
      "execution_count": 0,
      "outputs": []
    },
    {
      "cell_type": "code",
      "metadata": {
        "id": "274gUgKyIjnC",
        "colab_type": "code",
        "outputId": "db56ba6b-041f-4e44-8b18-17c8c8328f25",
        "colab": {
          "base_uri": "https://localhost:8080/",
          "height": 50
        }
      },
      "source": [
        "!pip install -q findspark\n",
        "!pip install pyspark"
      ],
      "execution_count": 0,
      "outputs": [
        {
          "output_type": "stream",
          "text": [
            "Requirement already satisfied: pyspark in /usr/local/lib/python2.7/dist-packages (2.4.5)\n",
            "Requirement already satisfied: py4j==0.10.7 in /usr/local/lib/python2.7/dist-packages (from pyspark) (0.10.7)\n"
          ],
          "name": "stdout"
        }
      ]
    },
    {
      "cell_type": "code",
      "metadata": {
        "id": "BkIBbAyoIVxN",
        "colab_type": "code",
        "colab": {}
      },
      "source": [
        "import os\n",
        "os.environ[\"JAVA_HOME\"] = \"/usr/lib/jvm/java-8-openjdk-amd64\"\n",
        "# os.environ[\"SPARK_HOME\"] = \"/content/spark-2.4.4-bin-hadoop2.7\""
      ],
      "execution_count": 0,
      "outputs": []
    },
    {
      "cell_type": "code",
      "metadata": {
        "id": "uFXDtsaOIsLI",
        "colab_type": "code",
        "outputId": "9d2bfdd0-f7fb-48ae-82e4-6bdb5568c524",
        "colab": {
          "base_uri": "https://localhost:8080/",
          "height": 34
        }
      },
      "source": [
        "from google.colab import drive\n",
        "drive.mount('/content/gdrive')"
      ],
      "execution_count": 0,
      "outputs": [
        {
          "output_type": "stream",
          "text": [
            "Drive already mounted at /content/gdrive; to attempt to forcibly remount, call drive.mount(\"/content/gdrive\", force_remount=True).\n"
          ],
          "name": "stdout"
        }
      ]
    },
    {
      "cell_type": "code",
      "metadata": {
        "id": "PelpDj0x9BQX",
        "colab_type": "code",
        "colab": {}
      },
      "source": [
        "from pyspark import SparkContext, SparkConf"
      ],
      "execution_count": 0,
      "outputs": []
    },
    {
      "cell_type": "code",
      "metadata": {
        "colab_type": "code",
        "id": "mAlndDJyDuag",
        "colab": {}
      },
      "source": [
        "APP_NAME = \"Day78Assignment\"\n",
        "SPARK_URL = \"local[*]\""
      ],
      "execution_count": 0,
      "outputs": []
    },
    {
      "cell_type": "markdown",
      "metadata": {
        "id": "wtS_4_p6t0Kp",
        "colab_type": "text"
      },
      "source": [
        "We will be using the older SparkContext to work with RDDs and gain an understanding of using mapping and reducing functions."
      ]
    },
    {
      "cell_type": "code",
      "metadata": {
        "id": "ypgjGqd-mYVl",
        "colab_type": "code",
        "colab": {}
      },
      "source": [
        "conf = SparkConf().setAppName(APP_NAME)\n",
        "sc = SparkContext(conf=conf)"
      ],
      "execution_count": 0,
      "outputs": []
    },
    {
      "cell_type": "markdown",
      "metadata": {
        "id": "Dor87jaMm6sL",
        "colab_type": "text"
      },
      "source": [
        "The next step is to load our dataset. Our data contains a daily measurement of PM2.5 in Beijing. PM 2.5 is a fine particulate matter which is a pollutant in the air."
      ]
    },
    {
      "cell_type": "code",
      "metadata": {
        "id": "mQib1-gOmYgy",
        "colab_type": "code",
        "colab": {}
      },
      "source": [
        "pm25 = sc.textFile('/content/gdrive/My Drive/Colab Datasets/pm25beijing.txt')"
      ],
      "execution_count": 0,
      "outputs": []
    },
    {
      "cell_type": "code",
      "metadata": {
        "id": "NiSSSgFHmYpU",
        "colab_type": "code",
        "outputId": "110ca55e-59d9-408b-de5b-c2879c5b9382",
        "colab": {
          "base_uri": "https://localhost:8080/",
          "height": 185
        }
      },
      "source": [
        "pm25.take(10)"
      ],
      "execution_count": 0,
      "outputs": [
        {
          "output_type": "execute_result",
          "data": {
            "text/plain": [
              "[u'129',\n",
              " u'148',\n",
              " u'159',\n",
              " u'181',\n",
              " u'138',\n",
              " u'109',\n",
              " u'105',\n",
              " u'124',\n",
              " u'120',\n",
              " u'132']"
            ]
          },
          "metadata": {
            "tags": []
          },
          "execution_count": 9
        }
      ]
    },
    {
      "cell_type": "markdown",
      "metadata": {
        "id": "rGBumIIRur6B",
        "colab_type": "text"
      },
      "source": [
        "How many observations do we have in our data? Use the count function to find this number."
      ]
    },
    {
      "cell_type": "code",
      "metadata": {
        "id": "CAKiJlkqupsU",
        "colab_type": "code",
        "outputId": "35c2b5ae-c140-4dfd-fc1b-aad817a211df",
        "colab": {
          "base_uri": "https://localhost:8080/",
          "height": 34
        }
      },
      "source": [
        "# Answer below:\n",
        "pm25.count()\n"
      ],
      "execution_count": 0,
      "outputs": [
        {
          "output_type": "execute_result",
          "data": {
            "text/plain": [
              "52561"
            ]
          },
          "metadata": {
            "tags": []
          },
          "execution_count": 10
        }
      ]
    },
    {
      "cell_type": "markdown",
      "metadata": {
        "id": "AmjFQzLVnXz8",
        "colab_type": "text"
      },
      "source": [
        "You may have noticed that our data is stored as a string. This might mean that we have some missing data. Let's print 1000 numbers instead of 10 to confirm this."
      ]
    },
    {
      "cell_type": "code",
      "metadata": {
        "id": "FwLzUAzkrIy9",
        "colab_type": "code",
        "colab": {}
      },
      "source": [
        "# Answer below:\n",
        "pm25.take(1000)\n"
      ],
      "execution_count": 0,
      "outputs": []
    },
    {
      "cell_type": "markdown",
      "metadata": {
        "id": "_v1NEfnCrgSM",
        "colab_type": "text"
      },
      "source": [
        "We can see that the missing values are represented as NA. Replace them with `'0'` using the map function."
      ]
    },
    {
      "cell_type": "code",
      "metadata": {
        "id": "r_kx2fNhrfrW",
        "colab_type": "code",
        "colab": {}
      },
      "source": [
        "#Answer below:\n",
        "pm25_no_nas = pm25.map(lambda x: x.replace('NA', '0'))"
      ],
      "execution_count": 0,
      "outputs": []
    },
    {
      "cell_type": "markdown",
      "metadata": {
        "id": "9fqx6olbr3qL",
        "colab_type": "text"
      },
      "source": [
        "Next, convert all values to floats using the map function."
      ]
    },
    {
      "cell_type": "code",
      "metadata": {
        "id": "0pEe0Ebqr-Z0",
        "colab_type": "code",
        "colab": {}
      },
      "source": [
        "# Answer below:\n",
        "pm25_floats = pm25_no_nas.map(float)\n",
        "pm25_floats.collect()"
      ],
      "execution_count": 0,
      "outputs": []
    },
    {
      "cell_type": "markdown",
      "metadata": {
        "id": "oXqSoCOlnz-J",
        "colab_type": "text"
      },
      "source": [
        "Count how many days in the time frame had a PM2.5 level higher than 100. Use the filter function and then the count function."
      ]
    },
    {
      "cell_type": "code",
      "metadata": {
        "id": "sz1zsVH4mYwK",
        "colab_type": "code",
        "outputId": "c551a59c-1492-480c-a4f5-80640661e1b0",
        "colab": {
          "base_uri": "https://localhost:8080/",
          "height": 34
        }
      },
      "source": [
        "# Answer below:\n",
        "pm25_100 = pm25_floats.filter(lambda x: x > 100).count()\n",
        "pm25_100"
      ],
      "execution_count": 0,
      "outputs": [
        {
          "output_type": "execute_result",
          "data": {
            "text/plain": [
              "17761"
            ]
          },
          "metadata": {
            "tags": []
          },
          "execution_count": 19
        }
      ]
    },
    {
      "cell_type": "markdown",
      "metadata": {
        "id": "wWF1j40WujZL",
        "colab_type": "text"
      },
      "source": [
        "Calculate the mean pm2.5 for all non zero days."
      ]
    },
    {
      "cell_type": "code",
      "metadata": {
        "id": "8Ny0osrDslO8",
        "colab_type": "code",
        "outputId": "d3ae758e-0fd5-435b-8a94-56aaa63485c5",
        "colab": {
          "base_uri": "https://localhost:8080/",
          "height": 34
        }
      },
      "source": [
        "# Answer below:\n",
        "pm_mean = pm25_floats.filter(lambda x: x > 0).mean()\n",
        "pm_mean"
      ],
      "execution_count": 0,
      "outputs": [
        {
          "output_type": "execute_result",
          "data": {
            "text/plain": [
              "95.90424117331818"
            ]
          },
          "metadata": {
            "tags": []
          },
          "execution_count": 20
        }
      ]
    },
    {
      "cell_type": "code",
      "metadata": {
        "id": "hVZ2JOPivZsL",
        "colab_type": "code",
        "outputId": "76aaaa53-1664-450c-f7c9-1d994ee19e43",
        "colab": {
          "base_uri": "https://localhost:8080/",
          "height": 34
        }
      },
      "source": [
        "pm25_floats.mean()"
      ],
      "execution_count": 0,
      "outputs": [
        {
          "output_type": "execute_result",
          "data": {
            "text/plain": [
              "91.93750118909475"
            ]
          },
          "metadata": {
            "tags": []
          },
          "execution_count": 21
        }
      ]
    }
  ]
}