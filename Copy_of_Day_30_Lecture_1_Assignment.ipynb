{
  "nbformat": 4,
  "nbformat_minor": 0,
  "metadata": {
    "kernelspec": {
      "display_name": "Python 3",
      "language": "python",
      "name": "python3"
    },
    "language_info": {
      "codemirror_mode": {
        "name": "ipython",
        "version": 3
      },
      "file_extension": ".py",
      "mimetype": "text/x-python",
      "name": "python",
      "nbconvert_exporter": "python",
      "pygments_lexer": "ipython3",
      "version": "3.7.0"
    },
    "colab": {
      "name": "Copy of Day 30 Lecture 1 Assignment.ipynb",
      "provenance": [],
      "collapsed_sections": [],
      "include_colab_link": true
    }
  },
  "cells": [
    {
      "cell_type": "markdown",
      "metadata": {
        "id": "view-in-github",
        "colab_type": "text"
      },
      "source": [
        "<a href=\"https://colab.research.google.com/github/andheartsjaz/Public/blob/master/Copy_of_Day_30_Lecture_1_Assignment.ipynb\" target=\"_parent\"><img src=\"https://colab.research.google.com/assets/colab-badge.svg\" alt=\"Open In Colab\"/></a>"
      ]
    },
    {
      "cell_type": "markdown",
      "metadata": {
        "id": "pKOYKktXdUrK",
        "colab_type": "text"
      },
      "source": [
        "## Day 30 Lecture 1 Assignment\n",
        "\n",
        "In this assignment, we will learn about random forests. We will use the mushrooms dataset loaded below."
      ]
    },
    {
      "cell_type": "code",
      "metadata": {
        "id": "vyDTvYcLdUrL",
        "colab_type": "code",
        "colab": {}
      },
      "source": [
        "%matplotlib inline\n",
        "\n",
        "import matplotlib.pyplot as plt\n",
        "import numpy as np\n",
        "import pandas as pd"
      ],
      "execution_count": 0,
      "outputs": []
    },
    {
      "cell_type": "code",
      "metadata": {
        "id": "Zzy6OWIKdUrN",
        "colab_type": "code",
        "colab": {}
      },
      "source": [
        "mushrooms = pd.read_csv('https://tf-assets-prod.s3.amazonaws.com/tf-curric/data-science/mushrooms.csv')"
      ],
      "execution_count": 0,
      "outputs": []
    },
    {
      "cell_type": "code",
      "metadata": {
        "id": "-CPxkPnldUrP",
        "colab_type": "code",
        "outputId": "c2df8623-65fc-4a7d-f699-1de5d1bea4b0",
        "colab": {
          "base_uri": "https://localhost:8080/",
          "height": 270
        }
      },
      "source": [
        "mushrooms.head()"
      ],
      "execution_count": 3,
      "outputs": [
        {
          "output_type": "execute_result",
          "data": {
            "text/html": [
              "<div>\n",
              "<style scoped>\n",
              "    .dataframe tbody tr th:only-of-type {\n",
              "        vertical-align: middle;\n",
              "    }\n",
              "\n",
              "    .dataframe tbody tr th {\n",
              "        vertical-align: top;\n",
              "    }\n",
              "\n",
              "    .dataframe thead th {\n",
              "        text-align: right;\n",
              "    }\n",
              "</style>\n",
              "<table border=\"1\" class=\"dataframe\">\n",
              "  <thead>\n",
              "    <tr style=\"text-align: right;\">\n",
              "      <th></th>\n",
              "      <th>class</th>\n",
              "      <th>cap-shape</th>\n",
              "      <th>cap-surface</th>\n",
              "      <th>cap-color</th>\n",
              "      <th>bruises</th>\n",
              "      <th>odor</th>\n",
              "      <th>gill-attachment</th>\n",
              "      <th>gill-spacing</th>\n",
              "      <th>gill-size</th>\n",
              "      <th>gill-color</th>\n",
              "      <th>stalk-shape</th>\n",
              "      <th>stalk-root</th>\n",
              "      <th>stalk-surface-above-ring</th>\n",
              "      <th>stalk-surface-below-ring</th>\n",
              "      <th>stalk-color-above-ring</th>\n",
              "      <th>stalk-color-below-ring</th>\n",
              "      <th>veil-type</th>\n",
              "      <th>veil-color</th>\n",
              "      <th>ring-number</th>\n",
              "      <th>ring-type</th>\n",
              "      <th>spore-print-color</th>\n",
              "      <th>population</th>\n",
              "      <th>habitat</th>\n",
              "    </tr>\n",
              "  </thead>\n",
              "  <tbody>\n",
              "    <tr>\n",
              "      <th>0</th>\n",
              "      <td>p</td>\n",
              "      <td>x</td>\n",
              "      <td>s</td>\n",
              "      <td>n</td>\n",
              "      <td>t</td>\n",
              "      <td>p</td>\n",
              "      <td>f</td>\n",
              "      <td>c</td>\n",
              "      <td>n</td>\n",
              "      <td>k</td>\n",
              "      <td>e</td>\n",
              "      <td>e</td>\n",
              "      <td>s</td>\n",
              "      <td>s</td>\n",
              "      <td>w</td>\n",
              "      <td>w</td>\n",
              "      <td>p</td>\n",
              "      <td>w</td>\n",
              "      <td>o</td>\n",
              "      <td>p</td>\n",
              "      <td>k</td>\n",
              "      <td>s</td>\n",
              "      <td>u</td>\n",
              "    </tr>\n",
              "    <tr>\n",
              "      <th>1</th>\n",
              "      <td>e</td>\n",
              "      <td>x</td>\n",
              "      <td>s</td>\n",
              "      <td>y</td>\n",
              "      <td>t</td>\n",
              "      <td>a</td>\n",
              "      <td>f</td>\n",
              "      <td>c</td>\n",
              "      <td>b</td>\n",
              "      <td>k</td>\n",
              "      <td>e</td>\n",
              "      <td>c</td>\n",
              "      <td>s</td>\n",
              "      <td>s</td>\n",
              "      <td>w</td>\n",
              "      <td>w</td>\n",
              "      <td>p</td>\n",
              "      <td>w</td>\n",
              "      <td>o</td>\n",
              "      <td>p</td>\n",
              "      <td>n</td>\n",
              "      <td>n</td>\n",
              "      <td>g</td>\n",
              "    </tr>\n",
              "    <tr>\n",
              "      <th>2</th>\n",
              "      <td>e</td>\n",
              "      <td>b</td>\n",
              "      <td>s</td>\n",
              "      <td>w</td>\n",
              "      <td>t</td>\n",
              "      <td>l</td>\n",
              "      <td>f</td>\n",
              "      <td>c</td>\n",
              "      <td>b</td>\n",
              "      <td>n</td>\n",
              "      <td>e</td>\n",
              "      <td>c</td>\n",
              "      <td>s</td>\n",
              "      <td>s</td>\n",
              "      <td>w</td>\n",
              "      <td>w</td>\n",
              "      <td>p</td>\n",
              "      <td>w</td>\n",
              "      <td>o</td>\n",
              "      <td>p</td>\n",
              "      <td>n</td>\n",
              "      <td>n</td>\n",
              "      <td>m</td>\n",
              "    </tr>\n",
              "    <tr>\n",
              "      <th>3</th>\n",
              "      <td>p</td>\n",
              "      <td>x</td>\n",
              "      <td>y</td>\n",
              "      <td>w</td>\n",
              "      <td>t</td>\n",
              "      <td>p</td>\n",
              "      <td>f</td>\n",
              "      <td>c</td>\n",
              "      <td>n</td>\n",
              "      <td>n</td>\n",
              "      <td>e</td>\n",
              "      <td>e</td>\n",
              "      <td>s</td>\n",
              "      <td>s</td>\n",
              "      <td>w</td>\n",
              "      <td>w</td>\n",
              "      <td>p</td>\n",
              "      <td>w</td>\n",
              "      <td>o</td>\n",
              "      <td>p</td>\n",
              "      <td>k</td>\n",
              "      <td>s</td>\n",
              "      <td>u</td>\n",
              "    </tr>\n",
              "    <tr>\n",
              "      <th>4</th>\n",
              "      <td>e</td>\n",
              "      <td>x</td>\n",
              "      <td>s</td>\n",
              "      <td>g</td>\n",
              "      <td>f</td>\n",
              "      <td>n</td>\n",
              "      <td>f</td>\n",
              "      <td>w</td>\n",
              "      <td>b</td>\n",
              "      <td>k</td>\n",
              "      <td>t</td>\n",
              "      <td>e</td>\n",
              "      <td>s</td>\n",
              "      <td>s</td>\n",
              "      <td>w</td>\n",
              "      <td>w</td>\n",
              "      <td>p</td>\n",
              "      <td>w</td>\n",
              "      <td>o</td>\n",
              "      <td>e</td>\n",
              "      <td>n</td>\n",
              "      <td>a</td>\n",
              "      <td>g</td>\n",
              "    </tr>\n",
              "  </tbody>\n",
              "</table>\n",
              "</div>"
            ],
            "text/plain": [
              "  class cap-shape cap-surface  ... spore-print-color population habitat\n",
              "0     p         x           s  ...                 k          s       u\n",
              "1     e         x           s  ...                 n          n       g\n",
              "2     e         b           s  ...                 n          n       m\n",
              "3     p         x           y  ...                 k          s       u\n",
              "4     e         x           s  ...                 n          a       g\n",
              "\n",
              "[5 rows x 23 columns]"
            ]
          },
          "metadata": {
            "tags": []
          },
          "execution_count": 3
        }
      ]
    },
    {
      "cell_type": "markdown",
      "metadata": {
        "id": "kOZxPHU9dUrR",
        "colab_type": "text"
      },
      "source": [
        "After examining the data, we will look for missing values and drop the rows that contain any missing values."
      ]
    },
    {
      "cell_type": "code",
      "metadata": {
        "id": "BXglXo0jdUrS",
        "colab_type": "code",
        "colab": {
          "base_uri": "https://localhost:8080/",
          "height": 454
        },
        "outputId": "d75a3d8b-b142-4a59-e2f6-eed2c75d17e4"
      },
      "source": [
        "# answer below:\n",
        "\n",
        "mushrooms.isnull().sum()"
      ],
      "execution_count": 4,
      "outputs": [
        {
          "output_type": "execute_result",
          "data": {
            "text/plain": [
              "class                       0\n",
              "cap-shape                   0\n",
              "cap-surface                 0\n",
              "cap-color                   0\n",
              "bruises                     0\n",
              "odor                        0\n",
              "gill-attachment             0\n",
              "gill-spacing                0\n",
              "gill-size                   0\n",
              "gill-color                  0\n",
              "stalk-shape                 0\n",
              "stalk-root                  0\n",
              "stalk-surface-above-ring    0\n",
              "stalk-surface-below-ring    0\n",
              "stalk-color-above-ring      0\n",
              "stalk-color-below-ring      0\n",
              "veil-type                   0\n",
              "veil-color                  0\n",
              "ring-number                 0\n",
              "ring-type                   0\n",
              "spore-print-color           0\n",
              "population                  0\n",
              "habitat                     0\n",
              "dtype: int64"
            ]
          },
          "metadata": {
            "tags": []
          },
          "execution_count": 4
        }
      ]
    },
    {
      "cell_type": "markdown",
      "metadata": {
        "id": "stTm44wudUrT",
        "colab_type": "text"
      },
      "source": [
        "In this dataset, we would like to predict the class (p for poisonous and e for edible). We observe that all columns contain characters. Therefore, we will create dummy variables out of all columns. In the cell below, create dummy variables for every column in the dataset. Remember to drop the first value in each feature."
      ]
    },
    {
      "cell_type": "code",
      "metadata": {
        "id": "EiKfOT1odUrU",
        "colab_type": "code",
        "colab": {
          "base_uri": "https://localhost:8080/",
          "height": 490
        },
        "outputId": "a23359ee-53e3-4f67-bed0-a26d8be5cad8"
      },
      "source": [
        "#answer below:\n",
        "dummies_df = pd.get_dummies(mushrooms, columns=mushrooms.columns, drop_first=True)\n",
        "print(dummies_df)\n",
        "dummies_df.nunique() # checking for other instances of binanry bc i'm paranoid\n"
      ],
      "execution_count": 7,
      "outputs": [
        {
          "output_type": "stream",
          "text": [
            "      class_p  cap-shape_c  cap-shape_f  ...  habitat_p  habitat_u  habitat_w\n",
            "0           1            0            0  ...          0          1          0\n",
            "1           0            0            0  ...          0          0          0\n",
            "2           0            0            0  ...          0          0          0\n",
            "3           1            0            0  ...          0          1          0\n",
            "4           0            0            0  ...          0          0          0\n",
            "...       ...          ...          ...  ...        ...        ...        ...\n",
            "8119        0            0            0  ...          0          0          0\n",
            "8120        0            0            0  ...          0          0          0\n",
            "8121        0            0            1  ...          0          0          0\n",
            "8122        1            0            0  ...          0          0          0\n",
            "8123        0            0            0  ...          0          0          0\n",
            "\n",
            "[8124 rows x 96 columns]\n"
          ],
          "name": "stdout"
        },
        {
          "output_type": "execute_result",
          "data": {
            "text/plain": [
              "class_p        2\n",
              "cap-shape_c    2\n",
              "cap-shape_f    2\n",
              "cap-shape_k    2\n",
              "cap-shape_s    2\n",
              "              ..\n",
              "habitat_l      2\n",
              "habitat_m      2\n",
              "habitat_p      2\n",
              "habitat_u      2\n",
              "habitat_w      2\n",
              "Length: 96, dtype: int64"
            ]
          },
          "metadata": {
            "tags": []
          },
          "execution_count": 7
        }
      ]
    },
    {
      "cell_type": "markdown",
      "metadata": {
        "id": "PB7M1iOadUrW",
        "colab_type": "text"
      },
      "source": [
        "Next, split the data into test and train. Place 20% of the data in the test subset. Recall that class_p is now our y variable."
      ]
    },
    {
      "cell_type": "code",
      "metadata": {
        "id": "g-6GXvZhNvSK",
        "colab_type": "code",
        "colab": {
          "base_uri": "https://localhost:8080/",
          "height": 235
        },
        "outputId": "b5f3946b-16fd-40d3-8188-b5cbfec13f8c"
      },
      "source": [
        "dummies_df.columns\n",
        "dummies_df.shape\n",
        "dummies_df.isna().sum()"
      ],
      "execution_count": 29,
      "outputs": [
        {
          "output_type": "execute_result",
          "data": {
            "text/plain": [
              "class_p        0\n",
              "cap-shape_c    0\n",
              "cap-shape_f    0\n",
              "cap-shape_k    0\n",
              "cap-shape_s    0\n",
              "              ..\n",
              "habitat_l      0\n",
              "habitat_m      0\n",
              "habitat_p      0\n",
              "habitat_u      0\n",
              "habitat_w      0\n",
              "Length: 96, dtype: int64"
            ]
          },
          "metadata": {
            "tags": []
          },
          "execution_count": 29
        }
      ]
    },
    {
      "cell_type": "code",
      "metadata": {
        "id": "KFWBhsCTdUrW",
        "colab_type": "code",
        "colab": {}
      },
      "source": [
        "# answer below:\n",
        "\n",
        "from sklearn.model_selection import train_test_split\n",
        "X = dummies_df.drop(columns='class_p')\n",
        "y = dummies_df['class_p']\n",
        "X_train, X_test, y_train, y_test = train_test_split(X, y,test_size=0.20)\n"
      ],
      "execution_count": 0,
      "outputs": []
    },
    {
      "cell_type": "markdown",
      "metadata": {
        "id": "K36qv3TZdUrY",
        "colab_type": "text"
      },
      "source": [
        "We will generate a random forest model from our mushroom data. Below you will initialize the random forest classifier and fit the model."
      ]
    },
    {
      "cell_type": "code",
      "metadata": {
        "id": "J-mB5KwFdUrY",
        "colab_type": "code",
        "colab": {
          "base_uri": "https://localhost:8080/",
          "height": 201
        },
        "outputId": "37a6895a-6c58-491d-a9bd-1edaa8f36df5"
      },
      "source": [
        "# answer below:\n",
        "from sklearn.tree import DecisionTreeClassifier\n",
        "from sklearn.ensemble import RandomForestClassifier\n",
        "from sklearn.metrics import confusion_matrix, classification_report\n",
        "\n",
        "# random_forest = RandomForestClassifier(n_estimators=100, max_depth=4, random_state=42)\n",
        "random_forest = RandomForestClassifier(random_state=42)\n",
        "random_forest.fit(X_train, y_train)\n"
      ],
      "execution_count": 30,
      "outputs": [
        {
          "output_type": "stream",
          "text": [
            "/usr/local/lib/python3.6/dist-packages/sklearn/ensemble/forest.py:245: FutureWarning: The default value of n_estimators will change from 10 in version 0.20 to 100 in 0.22.\n",
            "  \"10 in version 0.20 to 100 in 0.22.\", FutureWarning)\n"
          ],
          "name": "stderr"
        },
        {
          "output_type": "execute_result",
          "data": {
            "text/plain": [
              "RandomForestClassifier(bootstrap=True, class_weight=None, criterion='gini',\n",
              "                       max_depth=None, max_features='auto', max_leaf_nodes=None,\n",
              "                       min_impurity_decrease=0.0, min_impurity_split=None,\n",
              "                       min_samples_leaf=1, min_samples_split=2,\n",
              "                       min_weight_fraction_leaf=0.0, n_estimators=10,\n",
              "                       n_jobs=None, oob_score=False, random_state=42, verbose=0,\n",
              "                       warm_start=False)"
            ]
          },
          "metadata": {
            "tags": []
          },
          "execution_count": 30
        }
      ]
    },
    {
      "cell_type": "markdown",
      "metadata": {
        "id": "5nqB7lsodUra",
        "colab_type": "text"
      },
      "source": [
        "To evaluate our model, produce the predicted values for the test sample."
      ]
    },
    {
      "cell_type": "code",
      "metadata": {
        "id": "vMEcZbcQdUra",
        "colab_type": "code",
        "colab": {
          "base_uri": "https://localhost:8080/",
          "height": 35
        },
        "outputId": "a53ec7b6-ec5a-4fdf-ab48-3c363e8ceb6d"
      },
      "source": [
        "# answer below:\n",
        "y_pred = random_forest.predict(X_test)\n",
        "random_forest.score(X_test, y_test)\n",
        "\n"
      ],
      "execution_count": 34,
      "outputs": [
        {
          "output_type": "execute_result",
          "data": {
            "text/plain": [
              "1.0"
            ]
          },
          "metadata": {
            "tags": []
          },
          "execution_count": 34
        }
      ]
    },
    {
      "cell_type": "markdown",
      "metadata": {
        "id": "bhilfk1ZdUrb",
        "colab_type": "text"
      },
      "source": [
        "Next, we will print the confusion matrix. Explain our results."
      ]
    },
    {
      "cell_type": "code",
      "metadata": {
        "id": "KzSwHJ5PdUrc",
        "colab_type": "code",
        "colab": {
          "base_uri": "https://localhost:8080/",
          "height": 54
        },
        "outputId": "511b9731-9e8d-4c03-da16-cc4ae4924a15"
      },
      "source": [
        "# answer below:\n",
        "confusion_matrix(y_test, y_pred)\n",
        "\n"
      ],
      "execution_count": 32,
      "outputs": [
        {
          "output_type": "execute_result",
          "data": {
            "text/plain": [
              "array([[869,   0],\n",
              "       [  0, 756]])"
            ]
          },
          "metadata": {
            "tags": []
          },
          "execution_count": 32
        }
      ]
    },
    {
      "cell_type": "markdown",
      "metadata": {
        "id": "ZWuAeJkgdUrd",
        "colab_type": "text"
      },
      "source": [
        "Print the feature importances ordered by importance. Explain your results:"
      ]
    },
    {
      "cell_type": "code",
      "metadata": {
        "id": "OzPQm7tndUre",
        "colab_type": "code",
        "colab": {
          "base_uri": "https://localhost:8080/",
          "height": 407
        },
        "outputId": "99780e4b-798c-409e-8578-1395289432f6"
      },
      "source": [
        "# answer below:\n",
        "random_forest.feature_importances_\n",
        "importance_df = pd.DataFrame({'feature_name': X_train.columns,\n",
        "                              'importance': random_forest.feature_importances_})\n",
        "importance_df\n",
        "importance_df.sort_values('importance', ascending=False)"
      ],
      "execution_count": 33,
      "outputs": [
        {
          "output_type": "execute_result",
          "data": {
            "text/html": [
              "<div>\n",
              "<style scoped>\n",
              "    .dataframe tbody tr th:only-of-type {\n",
              "        vertical-align: middle;\n",
              "    }\n",
              "\n",
              "    .dataframe tbody tr th {\n",
              "        vertical-align: top;\n",
              "    }\n",
              "\n",
              "    .dataframe thead th {\n",
              "        text-align: right;\n",
              "    }\n",
              "</style>\n",
              "<table border=\"1\" class=\"dataframe\">\n",
              "  <thead>\n",
              "    <tr style=\"text-align: right;\">\n",
              "      <th></th>\n",
              "      <th>feature_name</th>\n",
              "      <th>importance</th>\n",
              "    </tr>\n",
              "  </thead>\n",
              "  <tbody>\n",
              "    <tr>\n",
              "      <th>22</th>\n",
              "      <td>odor_n</td>\n",
              "      <td>0.164767</td>\n",
              "    </tr>\n",
              "    <tr>\n",
              "      <th>28</th>\n",
              "      <td>gill-size_n</td>\n",
              "      <td>0.080006</td>\n",
              "    </tr>\n",
              "    <tr>\n",
              "      <th>48</th>\n",
              "      <td>stalk-surface-below-ring_k</td>\n",
              "      <td>0.065335</td>\n",
              "    </tr>\n",
              "    <tr>\n",
              "      <th>45</th>\n",
              "      <td>stalk-surface-above-ring_k</td>\n",
              "      <td>0.059126</td>\n",
              "    </tr>\n",
              "    <tr>\n",
              "      <th>76</th>\n",
              "      <td>spore-print-color_h</td>\n",
              "      <td>0.050996</td>\n",
              "    </tr>\n",
              "    <tr>\n",
              "      <th>...</th>\n",
              "      <td>...</td>\n",
              "      <td>...</td>\n",
              "    </tr>\n",
              "    <tr>\n",
              "      <th>33</th>\n",
              "      <td>gill-color_n</td>\n",
              "      <td>0.000000</td>\n",
              "    </tr>\n",
              "    <tr>\n",
              "      <th>26</th>\n",
              "      <td>gill-attachment_f</td>\n",
              "      <td>0.000000</td>\n",
              "    </tr>\n",
              "    <tr>\n",
              "      <th>13</th>\n",
              "      <td>cap-color_r</td>\n",
              "      <td>0.000000</td>\n",
              "    </tr>\n",
              "    <tr>\n",
              "      <th>3</th>\n",
              "      <td>cap-shape_s</td>\n",
              "      <td>0.000000</td>\n",
              "    </tr>\n",
              "    <tr>\n",
              "      <th>94</th>\n",
              "      <td>habitat_w</td>\n",
              "      <td>0.000000</td>\n",
              "    </tr>\n",
              "  </tbody>\n",
              "</table>\n",
              "<p>95 rows × 2 columns</p>\n",
              "</div>"
            ],
            "text/plain": [
              "                  feature_name  importance\n",
              "22                      odor_n    0.164767\n",
              "28                 gill-size_n    0.080006\n",
              "48  stalk-surface-below-ring_k    0.065335\n",
              "45  stalk-surface-above-ring_k    0.059126\n",
              "76         spore-print-color_h    0.050996\n",
              "..                         ...         ...\n",
              "33                gill-color_n    0.000000\n",
              "26           gill-attachment_f    0.000000\n",
              "13                 cap-color_r    0.000000\n",
              "3                  cap-shape_s    0.000000\n",
              "94                   habitat_w    0.000000\n",
              "\n",
              "[95 rows x 2 columns]"
            ]
          },
          "metadata": {
            "tags": []
          },
          "execution_count": 33
        }
      ]
    },
    {
      "cell_type": "markdown",
      "metadata": {
        "id": "l0uILgDIQ2Bx",
        "colab_type": "text"
      },
      "source": [
        "\n",
        "**We created a dataframe containing the values associated with the results of our model, according to accuracy.**\n",
        "# According to our results, the most important feature for predicting our variable 'class_p', otherwise understood as, \"classification: poisonous\".  So, in predicting classification of mushroom, our results indicate that odor_n is the best method to classify mushrooms. "
      ]
    }
  ]
}